{
 "cells": [
  {
   "cell_type": "markdown",
   "metadata": {},
   "source": [
    "### Problem 700 - Eulercoin\n",
    "\n",
    "Leonhard Euler was born on 15 April 1707.\n",
    "\n",
    "Consider the sequence 1504170715041707n mod 4503599627370517.\n",
    "\n",
    "An element of this sequence is defined to be an Eulercoin if it is strictly smaller than all previously found Eulercoins.\n",
    "\n",
    "For example, the first term is 1504170715041707 which is the first Eulercoin. The second term is 3008341430083414 which is greater than 1504170715041707 so is not an Eulercoin. However, the third term is 8912517754604 which is small enough to be a new Eulercoin.\n",
    "\n",
    "The sum of the first 2 Eulercoins is therefore 1513083232796311.\n",
    "\n",
    "Find the sum of all Eulercoins.\n"
   ]
  },
  {
   "cell_type": "code",
   "execution_count": 39,
   "metadata": {},
   "outputs": [
    {
     "name": "stdout",
     "output_type": "stream",
     "text": [
      "Smallest: 1311409677241\n",
      "Sum: 1516439427959921\n"
     ]
    }
   ],
   "source": [
    "sum_of_eulercoins = 0\n",
    "current_smallest = 4503599627370517\n",
    "\n",
    "for i in range(1,4000):\n",
    "    current_eulercoin = (1504170715041707 * i) % 4503599627370517\n",
    "    \n",
    "    if current_eulercoin < current_smallest:\n",
    "        sum_of_eulercoins += current_eulercoin\n",
    "        current_smallest = current_eulercoin\n",
    "\n",
    "print(\"Smallest: \" + str(current_smallest))\n",
    "print(\"Sum: \" + str(sum_of_eulercoins))"
   ]
  },
  {
   "cell_type": "code",
   "execution_count": 37,
   "metadata": {},
   "outputs": [
    {
     "name": "stdout",
     "output_type": "stream",
     "text": [
      "16.87705715104669\n",
      "4.358656599441285\n"
     ]
    }
   ],
   "source": [
    "small_507 = 2044785486369\n",
    "small_3 = 8912517754604\n",
    "small_1 = 150417071504170\n",
    "print(small_1 / small_3)\n",
    "print(small_3 / small_507)"
   ]
  },
  {
   "cell_type": "code",
   "execution_count": null,
   "metadata": {},
   "outputs": [],
   "source": []
  }
 ],
 "metadata": {
  "kernelspec": {
   "display_name": "Python 3",
   "language": "python",
   "name": "python3"
  },
  "language_info": {
   "codemirror_mode": {
    "name": "ipython",
    "version": 3
   },
   "file_extension": ".py",
   "mimetype": "text/x-python",
   "name": "python",
   "nbconvert_exporter": "python",
   "pygments_lexer": "ipython3",
   "version": "3.7.4"
  }
 },
 "nbformat": 4,
 "nbformat_minor": 2
}
