{
 "cells": [
  {
   "cell_type": "code",
   "execution_count": 1,
   "metadata": {},
   "outputs": [],
   "source": [
    "# from nltk.corpus import words\n",
    "# from itertools import permutations,combinations"
   ]
  },
  {
   "cell_type": "code",
   "execution_count": 2,
   "metadata": {},
   "outputs": [],
   "source": [
    "# \"would\" in words.words()"
   ]
  },
  {
   "cell_type": "code",
   "execution_count": 3,
   "metadata": {},
   "outputs": [],
   "source": [
    "# def find_all_poss_words(input_chars, center):\n",
    "#     all_perms = []\n",
    "#     for i in range(4, len(input_chars)+1):\n",
    "#         temp_perm = permutations(input_chars, i)\n",
    "#         keep_perm = [''.join(perm) for perm in temp_perm if center in perm]\n",
    "#         all_perms += keep_perm\n",
    "    \n",
    "#     good_perms = []\n",
    "#     for perm in all_perms:\n",
    "#         if perm.lower() in words.words():\n",
    "#             good_perms.append(perm)\n",
    "    \n",
    "#     print(good_perms)"
   ]
  },
  {
   "cell_type": "code",
   "execution_count": 4,
   "metadata": {},
   "outputs": [],
   "source": [
    "#find_all_poss_words(['T','O','W','L','A','D','F'], 'T')"
   ]
  },
  {
   "cell_type": "markdown",
   "metadata": {},
   "source": [
    "New try"
   ]
  },
  {
   "cell_type": "code",
   "execution_count": 1,
   "metadata": {},
   "outputs": [],
   "source": [
    "import json\n",
    "from itertools import permutations,combinations"
   ]
  },
  {
   "cell_type": "code",
   "execution_count": 12,
   "metadata": {},
   "outputs": [],
   "source": [
    "f = open(\"english3.txt\")\n",
    "words_alpha_raw = f.readlines()\n",
    "f.close()"
   ]
  },
  {
   "cell_type": "code",
   "execution_count": 13,
   "metadata": {},
   "outputs": [],
   "source": [
    "words_alpha = []\n",
    "for word in words_alpha_raw:\n",
    "    words_alpha.append(word[:-1])"
   ]
  },
  {
   "cell_type": "code",
   "execution_count": 14,
   "metadata": {},
   "outputs": [
    {
     "name": "stdout",
     "output_type": "stream",
     "text": [
      "['a', 'aa', 'aaa', 'aachen', 'aardvark', 'aardvarks', 'aardwolf', 'aardwolves', 'aarhus', 'aaron']\n"
     ]
    }
   ],
   "source": [
    "print(words_alpha[0:10])"
   ]
  },
  {
   "cell_type": "code",
   "execution_count": 15,
   "metadata": {},
   "outputs": [],
   "source": [
    "center = ['n']\n",
    "letters = ['t','h','e','y','g','l']"
   ]
  },
  {
   "cell_type": "code",
   "execution_count": 20,
   "metadata": {},
   "outputs": [],
   "source": [
    "#temp_combs = combinations(letters, 3)\n",
    "#temp_combs2 = [comb for comb in temp_combs]\n",
    "#temp_combs3 = [list(comb) for comb in temp_combs2]"
   ]
  },
  {
   "cell_type": "code",
   "execution_count": 21,
   "metadata": {},
   "outputs": [],
   "source": [
    "#print(temp_combs3)\n",
    "# combs = [comb + center for comb in temp_combs3]\n",
    "# print(combs)"
   ]
  },
  {
   "cell_type": "code",
   "execution_count": 22,
   "metadata": {},
   "outputs": [],
   "source": [
    "all_letters = center + letters\n",
    "\n",
    "seven_letters = []\n",
    "for word in words_alpha:\n",
    "    if len(word) < 4:\n",
    "        continue\n",
    "    if center[0] not in word:\n",
    "        continue\n",
    "    good = True\n",
    "    for letter in word:\n",
    "        if letter not in all_letters:\n",
    "            good = False\n",
    "            break\n",
    "    if good:\n",
    "        seven_letters.append(word)"
   ]
  },
  {
   "cell_type": "code",
   "execution_count": 23,
   "metadata": {},
   "outputs": [
    {
     "name": "stdout",
     "output_type": "stream",
     "text": [
      "ellen\n",
      "entente\n",
      "eten\n",
      "ethene\n",
      "ethylene\n",
      "ethyne\n",
      "eyne\n",
      "gene\n",
      "genet\n",
      "genette\n",
      "gennet\n",
      "gent\n",
      "genteel\n",
      "genteelly\n",
      "gentle\n",
      "gently\n",
      "genty\n",
      "ghent\n",
      "glen\n",
      "glenn\n",
      "glyn\n",
      "gynt\n",
      "gyny\n",
      "helen\n",
      "hellen\n",
      "hellene\n",
      "henge\n",
      "henley\n",
      "henny\n",
      "hent\n",
      "leglen\n",
      "leng\n",
      "length\n",
      "lengthen\n",
      "lengthy\n",
      "lenny\n",
      "lent\n",
      "lente\n",
      "lenten\n",
      "lleyn\n",
      "lyne\n",
      "lynn\n",
      "lynne\n",
      "neele\n",
      "nell\n",
      "nelly\n",
      "nene\n",
      "nete\n",
      "nett\n",
      "nettle\n",
      "nettly\n",
      "netty\n",
      "nyet\n",
      "teen\n",
      "teenty\n",
      "teeny\n",
      "tellen\n",
      "telnet\n",
      "tene\n",
      "tenet\n",
      "tenne\n",
      "tenny\n",
      "tent\n",
      "tenth\n",
      "tenthly\n",
      "tenty\n",
      "thegn\n",
      "then\n",
      "tyne\n"
     ]
    }
   ],
   "source": [
    "for word in seven_letters:\n",
    "    print(word)"
   ]
  },
  {
   "cell_type": "code",
   "execution_count": null,
   "metadata": {},
   "outputs": [],
   "source": []
  }
 ],
 "metadata": {
  "kernelspec": {
   "display_name": "Python 3",
   "language": "python",
   "name": "python3"
  },
  "language_info": {
   "codemirror_mode": {
    "name": "ipython",
    "version": 3
   },
   "file_extension": ".py",
   "mimetype": "text/x-python",
   "name": "python",
   "nbconvert_exporter": "python",
   "pygments_lexer": "ipython3",
   "version": "3.7.3"
  }
 },
 "nbformat": 4,
 "nbformat_minor": 2
}
