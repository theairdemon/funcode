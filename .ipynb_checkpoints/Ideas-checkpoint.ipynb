{
 "cells": [
  {
   "cell_type": "markdown",
   "metadata": {},
   "source": [
    "### Ideas\n",
    "- auto crossword solver\n",
    "\t- search google for answers then type them into the crossword website\n",
    "\t- OR\n",
    "\t- make it analyze the question and try to decipher the answer itself\n",
    "- voice chat bot using my own voice\n",
    "\t- record myself saying every phoneme in cmudict and then just run it through there and pick the corresponding mp3 files and play them in order\n",
    "- program that writes a hello world program\n",
    "\t- just for shits and giggles lol\n",
    "- headline stock analysis\n",
    "\t- crawls WSJ (maybe other websites \tas well), finds headlines, use \tplotline analysis on the article to find out whether the stock will drop or rise, then check if right\n",
    "\t- can use plotline to compare past news stories with the stock price and see if there's a correlation\n",
    "\t- using quantifiers from plotline analysis, maybe predict percentage of stock rise based off past rise/falls in that company's stock"
   ]
  },
  {
   "cell_type": "code",
   "execution_count": null,
   "metadata": {},
   "outputs": [],
   "source": []
  }
 ],
 "metadata": {
  "kernelspec": {
   "display_name": "Python 3",
   "language": "python",
   "name": "python3"
  },
  "language_info": {
   "codemirror_mode": {
    "name": "ipython",
    "version": 3
   },
   "file_extension": ".py",
   "mimetype": "text/x-python",
   "name": "python",
   "nbconvert_exporter": "python",
   "pygments_lexer": "ipython3",
   "version": "3.7.4"
  }
 },
 "nbformat": 4,
 "nbformat_minor": 2
}
