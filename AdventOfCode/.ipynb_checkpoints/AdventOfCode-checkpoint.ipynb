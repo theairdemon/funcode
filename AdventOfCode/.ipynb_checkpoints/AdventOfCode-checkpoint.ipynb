{
 "cells": [
  {
   "cell_type": "markdown",
   "metadata": {},
   "source": [
    "# Advent of Code"
   ]
  },
  {
   "cell_type": "code",
   "execution_count": 13,
   "metadata": {},
   "outputs": [],
   "source": [
    "import math\n",
    "import numpy as np\n",
    "from treelib import Node, Tree"
   ]
  },
  {
   "cell_type": "markdown",
   "metadata": {},
   "source": [
    "---\n",
    "### Day 1"
   ]
  },
  {
   "cell_type": "code",
   "execution_count": 14,
   "metadata": {},
   "outputs": [],
   "source": [
    "def getFuelVals(input_list):\n",
    "    total = 0\n",
    "    for i in range(len(input_list)):\n",
    "        fuel = getFuel(input_list[i])        \n",
    "        while fuel > 0:\n",
    "            total += fuel\n",
    "            fuel = getFuel(fuel)\n",
    "    return total"
   ]
  },
  {
   "cell_type": "code",
   "execution_count": 15,
   "metadata": {},
   "outputs": [],
   "source": [
    "def getFuel(input_val):\n",
    "    return math.floor(input_val / 3) - 2"
   ]
  },
  {
   "cell_type": "code",
   "execution_count": 16,
   "metadata": {},
   "outputs": [],
   "source": [
    "f = open(\"day1.txt\")\n",
    "day1_raw_input = f.readlines()\n",
    "f.close()"
   ]
  },
  {
   "cell_type": "code",
   "execution_count": 17,
   "metadata": {},
   "outputs": [],
   "source": [
    "day1_input = []\n",
    "for fuel in day1_raw_input:\n",
    "    day1_input.append(int(fuel[:-1]))"
   ]
  },
  {
   "cell_type": "code",
   "execution_count": 18,
   "metadata": {},
   "outputs": [
    {
     "name": "stdout",
     "output_type": "stream",
     "text": [
      "5055835\n"
     ]
    }
   ],
   "source": [
    "print(getFuelVals(day1_input))"
   ]
  },
  {
   "cell_type": "markdown",
   "metadata": {},
   "source": [
    "---\n",
    "### Day 2"
   ]
  },
  {
   "cell_type": "code",
   "execution_count": 19,
   "metadata": {},
   "outputs": [],
   "source": [
    "def intCode(input_list):\n",
    "    new = input_list[:]\n",
    "    for i in range(0, len(new), 4):\n",
    "        if new[i] == 99:\n",
    "            return new\n",
    "        elif new[i] == 1:\n",
    "            new[new[i+3]] = new[new[i+1]] + new[new[i+2]]\n",
    "        elif new[i] == 2:\n",
    "            new[new[i+3]] = new[new[i+1]] * new[new[i+2]]\n",
    "        else:\n",
    "            return new"
   ]
  },
  {
   "cell_type": "code",
   "execution_count": 20,
   "metadata": {},
   "outputs": [],
   "source": [
    "f = open(\"day2.txt\")\n",
    "day2_raw_input = f.read()\n",
    "f.close()\n",
    "\n",
    "day2_input = []\n",
    "new_list = day2_raw_input.split(\",\")\n",
    "for i in new_list:\n",
    "    day2_input.append(int(i))"
   ]
  },
  {
   "cell_type": "code",
   "execution_count": 21,
   "metadata": {},
   "outputs": [
    {
     "name": "stdout",
     "output_type": "stream",
     "text": [
      "[4484226, 12, 2, 2, 1, 1, 2, 3, 1, 3, 4, 3, 1, 5, 0, 3, 2, 6, 1, 24, 1, 5, 19, 25, 2, 6, 23, 50, 1, 27, 5, 51, 2, 9, 31, 153, 1, 5, 35, 154, 2, 6, 39, 308, 2, 6, 43, 616, 1, 5, 47, 617, 2, 9, 51, 1851, 1, 5, 55, 1852, 1, 10, 59, 1856, 1, 63, 6, 1858, 1, 9, 67, 1861, 1, 71, 6, 1863, 1, 75, 13, 1868, 2, 79, 13, 9340, 2, 9, 83, 28020, 1, 87, 5, 28021, 1, 9, 91, 28024, 2, 10, 95, 112096, 1, 5, 99, 112097, 1, 103, 9, 112100, 1, 13, 107, 112105, 2, 111, 10, 448420, 1, 115, 5, 448421, 2, 13, 119, 2242105, 1, 9, 123, 2242108, 1, 5, 127, 2242109, 2, 131, 6, 4484218, 1, 135, 5, 4484219, 1, 139, 6, 4484221, 1, 143, 6, 4484223, 1, 2, 147, 4484225, 1, 151, 5, 0, 99, 2, 14, 0, 0]\n"
     ]
    }
   ],
   "source": [
    "day2_input[1] = 12\n",
    "day2_input[2] = 2\n",
    "print(intCode(day2_input))"
   ]
  },
  {
   "cell_type": "code",
   "execution_count": 22,
   "metadata": {},
   "outputs": [
    {
     "name": "stdout",
     "output_type": "stream",
     "text": [
      "5696\n"
     ]
    }
   ],
   "source": [
    "for i in range(0,100):\n",
    "    day2_input[1] = i\n",
    "    for j in range(0,100):\n",
    "        day2_input[2] = j\n",
    "        testVal = intCode(day2_input)[0]\n",
    "        if testVal == 19690720:\n",
    "            print(100 * i + j)\n",
    "            break"
   ]
  },
  {
   "cell_type": "markdown",
   "metadata": {},
   "source": [
    "---\n",
    "### Day 3"
   ]
  },
  {
   "cell_type": "code",
   "execution_count": 23,
   "metadata": {},
   "outputs": [],
   "source": [
    "def get_new_points(ind, d_val, num, point):\n",
    "    points_list = []\n",
    "    for i in range(1, num+1):\n",
    "        if ind == 0:\n",
    "            if d_val == 'R':\n",
    "                points_list.append((point[0]+i, point[1]))\n",
    "            else:\n",
    "                points_list.append((point[0]-i, point[1]))\n",
    "        else:\n",
    "            if d_val == 'U':\n",
    "                points_list.append((point[0], point[1]+i))\n",
    "            else:\n",
    "                points_list.append((point[0], point[1]-i))\n",
    "    return points_list"
   ]
  },
  {
   "cell_type": "code",
   "execution_count": 24,
   "metadata": {},
   "outputs": [],
   "source": [
    "def wire_coords(wire_directions):\n",
    "    wire_points = []\n",
    "    central_point = (0,0)\n",
    "    current_point = central_point\n",
    "    for d in wire_directions:\n",
    "        num = int(d[1:])\n",
    "        if d[0] == 'R' or d[0] == 'L':\n",
    "            wire_points += get_new_points(0, d[0], num, current_point)\n",
    "        elif d[0] == 'U' or d[0] == 'D':\n",
    "            wire_points += get_new_points(1, d[0], num, current_point)\n",
    "        current_point = wire_points[-1]\n",
    "    return wire_points"
   ]
  },
  {
   "cell_type": "code",
   "execution_count": 25,
   "metadata": {},
   "outputs": [],
   "source": [
    "f = open('day3.txt')\n",
    "day3_raw_input = f.readlines()\n",
    "f.close()"
   ]
  },
  {
   "cell_type": "code",
   "execution_count": 26,
   "metadata": {},
   "outputs": [],
   "source": [
    "day3_input = [line.split(\",\") for line in day3_raw_input]"
   ]
  },
  {
   "cell_type": "code",
   "execution_count": 27,
   "metadata": {},
   "outputs": [],
   "source": [
    "wire1 = wire_coords(day3_input[0])\n",
    "wire2 = wire_coords(day3_input[1])"
   ]
  },
  {
   "cell_type": "code",
   "execution_count": 28,
   "metadata": {},
   "outputs": [],
   "source": [
    "def find_intersections(input1, input2):\n",
    "    intersections = []\n",
    "    set2 = set(input2)\n",
    "    for p1 in input1:\n",
    "        if p1 in set2:\n",
    "            intersections.append(p1)\n",
    "    return intersections"
   ]
  },
  {
   "cell_type": "code",
   "execution_count": 29,
   "metadata": {},
   "outputs": [],
   "source": [
    "wire_crossing = [(0,0)] + find_intersections(wire1, wire2)"
   ]
  },
  {
   "cell_type": "code",
   "execution_count": 30,
   "metadata": {},
   "outputs": [
    {
     "name": "stdout",
     "output_type": "stream",
     "text": [
      "[(0, 0), (525, -543), (468, -615), (921, -1459), (1146, -1459), (1261, -1459), (1296, -1459), (1323, -1748), (1261, -1720), (1296, -1081), (1261, -1081), (1220, -1569), (921, -1763), (921, -1430), (372, -2052), (372, -1948), (372, -1877), (271, -1464), (-361, -656), (-845, -656), (-196, -1028), (-315, -846), (-877, -656), (-1078, -548)]\n"
     ]
    }
   ],
   "source": [
    "print(wire_crossing)"
   ]
  },
  {
   "cell_type": "code",
   "execution_count": 31,
   "metadata": {},
   "outputs": [],
   "source": [
    "def get_closest_intersection(intersections):\n",
    "    central = intersections[0]\n",
    "    s_d = 1000000000000000\n",
    "    s_p = (0,0)\n",
    "    for p in intersections[1:]:\n",
    "        curr_d = abs(p[0])+abs(p[1])\n",
    "        if curr_d < s_d:\n",
    "            s_d = curr_d\n",
    "            s_p = p\n",
    "    return (s_d, s_p)"
   ]
  },
  {
   "cell_type": "code",
   "execution_count": 32,
   "metadata": {},
   "outputs": [
    {
     "data": {
      "text/plain": [
       "(1017, (-361, -656))"
      ]
     },
     "execution_count": 32,
     "metadata": {},
     "output_type": "execute_result"
    }
   ],
   "source": [
    "get_closest_intersection(wire_crossing)"
   ]
  },
  {
   "cell_type": "code",
   "execution_count": 33,
   "metadata": {},
   "outputs": [],
   "source": [
    "def get_smallest_steps(intersections, input1, input2):\n",
    "    central = intersections[0]\n",
    "    s_steps = 1000000000\n",
    "    s_p = (0,0)\n",
    "    \n",
    "    for p in intersections[1:]:\n",
    "        curr_steps = input1.index(p) + input2.index(p) + 2\n",
    "        #print(curr_steps)\n",
    "        if curr_steps < s_steps:\n",
    "            s_steps = curr_steps\n",
    "            s_p = p\n",
    "    return (s_steps, s_p)"
   ]
  },
  {
   "cell_type": "code",
   "execution_count": 34,
   "metadata": {},
   "outputs": [
    {
     "data": {
      "text/plain": [
       "(11432, (525, -543))"
      ]
     },
     "execution_count": 34,
     "metadata": {},
     "output_type": "execute_result"
    }
   ],
   "source": [
    "get_smallest_steps(wire_crossing, wire1, wire2)"
   ]
  },
  {
   "cell_type": "markdown",
   "metadata": {},
   "source": [
    "---\n",
    "### Day 4"
   ]
  },
  {
   "cell_type": "code",
   "execution_count": 35,
   "metadata": {},
   "outputs": [],
   "source": [
    "def passwordCracker(lower, upper):\n",
    "    all_poss = []\n",
    "    for i in range(lower, upper):\n",
    "        all_poss.append(str(i))\n",
    "    \n",
    "    filter_decreasing = []\n",
    "    for num in all_poss:\n",
    "        passed = True\n",
    "        for i in range(len(num)-1):\n",
    "            if int(num[i]) > int(num[i+1]):\n",
    "                passed = False\n",
    "        if passed:\n",
    "            filter_decreasing.append(num)\n",
    "    \n",
    "    filter_double = set()\n",
    "    for num in filter_decreasing:\n",
    "        passed = False\n",
    "        for i in range(len(num)-1):\n",
    "            if num[i] == num[i+1]:\n",
    "                passed = True\n",
    "                filter_double.add(num)\n",
    "                break\n",
    "        \n",
    "    return filter_double\n"
   ]
  },
  {
   "cell_type": "code",
   "execution_count": 36,
   "metadata": {},
   "outputs": [],
   "source": [
    "output1 = passwordCracker(123257, 647015)"
   ]
  },
  {
   "cell_type": "code",
   "execution_count": 37,
   "metadata": {},
   "outputs": [
    {
     "name": "stdout",
     "output_type": "stream",
     "text": [
      "2220\n"
     ]
    }
   ],
   "source": [
    "print(len(output1))"
   ]
  },
  {
   "cell_type": "code",
   "execution_count": 38,
   "metadata": {},
   "outputs": [],
   "source": [
    "def passwordCracker2(prev_output):\n",
    "    filter_just_double = set()\n",
    "    for num in prev_output:\n",
    "        passed = False\n",
    "        for i in range(len(num)-1):\n",
    "            if i == 0:\n",
    "                if num[i] == num[i+1] and num[i] != num[i+2]:\n",
    "                    passed = True\n",
    "            elif i == len(num)-2:\n",
    "                if num[i] == num[i+1] and num[i-1] != num[i]:\n",
    "                    passed = True\n",
    "            else:\n",
    "                if num[i] == num[i+1] and num[i-1] != num[i] and num[i+2] != num[i]:\n",
    "                    passed = True\n",
    "            if passed:\n",
    "                filter_just_double.add(num)\n",
    "                break\n",
    "    return filter_just_double"
   ]
  },
  {
   "cell_type": "code",
   "execution_count": 39,
   "metadata": {},
   "outputs": [],
   "source": [
    "output2 = passwordCracker2(list(output1))"
   ]
  },
  {
   "cell_type": "code",
   "execution_count": 40,
   "metadata": {},
   "outputs": [
    {
     "name": "stdout",
     "output_type": "stream",
     "text": [
      "1515\n"
     ]
    }
   ],
   "source": [
    "print(len(output2))"
   ]
  },
  {
   "cell_type": "markdown",
   "metadata": {},
   "source": [
    "---\n",
    "### Day 5"
   ]
  },
  {
   "cell_type": "code",
   "execution_count": 41,
   "metadata": {},
   "outputs": [],
   "source": [
    "def intCode2(input_list, input_val):\n",
    "    new = input_list[:]\n",
    "    i = 0\n",
    "    while i < len(new):\n",
    "        if new[i] < 100: \n",
    "            instructs = new[i]\n",
    "            if new[i+1] < len(new):\n",
    "                param1 = new[new[i+1]]\n",
    "            if new[i+2] < len(new):\n",
    "                param2 = new[new[i+2]]\n",
    "            param3 = new[i+3]\n",
    "        else:\n",
    "            # 001--\n",
    "            if 100 < new[i] < 1000:\n",
    "                instructs = new[i] - 100\n",
    "                param1 = new[i+1]\n",
    "                if new[i+2] < len(new):\n",
    "                    param2 = new[new[i+2]]\n",
    "                param3 = new[i+3]\n",
    "            # 010--\n",
    "            elif 1000 < new[i] < 1100:\n",
    "                instructs = new[i] - 1000\n",
    "                param1 = new[new[i+1]]\n",
    "                param2 = new[i+2]\n",
    "                param3 = new[i+3]\n",
    "            # 011--\n",
    "            elif 1100 < new[i] < 1200:\n",
    "                instructs = new[i] - 1100\n",
    "                param1 = new[i+1]\n",
    "                param2 = new[i+2]\n",
    "                param3 = new[i+3]\n",
    "                \n",
    "        if instructs == 99:\n",
    "            break\n",
    "        elif instructs == 1:\n",
    "            new[param3] = param1 + param2\n",
    "            i += 4\n",
    "        elif instructs == 2:\n",
    "            new[param3] = param1 * param2\n",
    "            i += 4\n",
    "        elif instructs == 3:\n",
    "            new[new[i+1]] = input_val\n",
    "            i += 2\n",
    "        elif instructs == 4:\n",
    "            print(param1)\n",
    "            i += 2\n",
    "        elif instructs == 5:\n",
    "            if param1 != 0:\n",
    "                i = param2\n",
    "            else:\n",
    "                i += 3\n",
    "        elif instructs == 6:\n",
    "            if param1 == 0:\n",
    "                i = param2\n",
    "            else:\n",
    "                i += 3\n",
    "        elif instructs == 7:\n",
    "            if param1 < param2:\n",
    "                new[param3] = 1\n",
    "            else:\n",
    "                new[param3] = 0\n",
    "            i += 4\n",
    "        elif instructs == 8:\n",
    "            if param1 == param2:\n",
    "                new[param3] = 1\n",
    "            else:\n",
    "                new[param3] = 0\n",
    "            i += 4"
   ]
  },
  {
   "cell_type": "code",
   "execution_count": 42,
   "metadata": {},
   "outputs": [],
   "source": [
    "f = open(\"day5.txt\")\n",
    "day5_raw_input = f.read()\n",
    "f.close()\n",
    "\n",
    "day5_input = []\n",
    "new_list = day5_raw_input.split(\",\")\n",
    "for i in new_list:\n",
    "    day5_input.append(int(i))"
   ]
  },
  {
   "cell_type": "code",
   "execution_count": 43,
   "metadata": {},
   "outputs": [],
   "source": [
    "#intCode2(day5_input, 5)"
   ]
  },
  {
   "cell_type": "markdown",
   "metadata": {},
   "source": [
    "---\n",
    "### Day 6"
   ]
  },
  {
   "cell_type": "code",
   "execution_count": 44,
   "metadata": {},
   "outputs": [],
   "source": [
    "f = open('day6.txt')\n",
    "day6_raw_input = f.readlines()\n",
    "f.close()\n",
    "day6_input = []\n",
    "for line in day6_raw_input:\n",
    "    line1 = line[:-1]\n",
    "    day6_input.append(line1.split(')'))"
   ]
  },
  {
   "cell_type": "code",
   "execution_count": 45,
   "metadata": {},
   "outputs": [
    {
     "data": {
      "text/plain": [
       "Node(tag=COM, identifier=COM, data=0)"
      ]
     },
     "execution_count": 45,
     "metadata": {},
     "output_type": "execute_result"
    }
   ],
   "source": [
    "tree = Tree()\n",
    "tree.create_node(\"COM\", \"COM\", data=0)"
   ]
  },
  {
   "cell_type": "code",
   "execution_count": 46,
   "metadata": {},
   "outputs": [],
   "source": [
    "for i in day6_input:\n",
    "    if i[0] not in tree:\n",
    "        tree.create_node(i[0], i[0], parent=\"COM\")"
   ]
  },
  {
   "cell_type": "code",
   "execution_count": 47,
   "metadata": {},
   "outputs": [],
   "source": [
    "for j in day6_input:\n",
    "    if j[1] in tree:\n",
    "        tree.move_node(j[1], j[0])\n",
    "    else:\n",
    "        tree.create_node(j[1], j[1], parent=j[0])"
   ]
  },
  {
   "cell_type": "code",
   "execution_count": 48,
   "metadata": {},
   "outputs": [
    {
     "name": "stdout",
     "output_type": "stream",
     "text": [
      "314247\n"
     ]
    }
   ],
   "source": [
    "visited = set()\n",
    "total_depth = 0\n",
    "for i in day6_input:\n",
    "    if i[0] not in visited:\n",
    "        total_depth += tree.depth(i[0])\n",
    "        visited.add(i[0])\n",
    "    if i[1] not in visited:\n",
    "        total_depth += tree.depth(i[1])\n",
    "        visited.add(i[1])\n",
    "print(total_depth)"
   ]
  },
  {
   "cell_type": "code",
   "execution_count": 49,
   "metadata": {},
   "outputs": [
    {
     "name": "stdout",
     "output_type": "stream",
     "text": [
      "52 KPS\n",
      "278 YOU\n",
      "342 SAN\n"
     ]
    }
   ],
   "source": [
    "lowest_level = 0\n",
    "LCA = \"COM\"\n",
    "for i in day6_input:\n",
    "    if tree.is_ancestor(i[0], \"YOU\") and tree.is_ancestor(i[0], \"SAN\"):\n",
    "        if tree.level(i[0]) > lowest_level:\n",
    "            lowest_level = tree.level(i[0])\n",
    "            LCA = i[0]\n",
    "print(lowest_level, LCA)\n",
    "print(tree.level(\"YOU\"), \"YOU\")\n",
    "print(tree.level(\"SAN\"), \"SAN\")"
   ]
  },
  {
   "cell_type": "code",
   "execution_count": 50,
   "metadata": {},
   "outputs": [
    {
     "data": {
      "text/plain": [
       "514"
      ]
     },
     "execution_count": 50,
     "metadata": {},
     "output_type": "execute_result"
    }
   ],
   "source": [
    "(277-52)+(341-52)"
   ]
  },
  {
   "cell_type": "markdown",
   "metadata": {},
   "source": [
    "---\n",
    "### Day 7"
   ]
  },
  {
   "cell_type": "code",
   "execution_count": 51,
   "metadata": {},
   "outputs": [],
   "source": [
    "def intCode3(input_list, input_val1, input_val2=None, last_instruct=0):\n",
    "    used_first_input = False\n",
    "    new = input_list[:]\n",
    "    i = last_instruct\n",
    "    output = 0\n",
    "    while i < len(new)-1:\n",
    "        if new[i] < 100: \n",
    "            instructs = new[i]\n",
    "            if new[i+1] < len(new):\n",
    "                param1 = new[new[i+1]]\n",
    "            if new[i+2] < len(new):\n",
    "                param2 = new[new[i+2]]\n",
    "            if i+3 < len(new):\n",
    "                param3 = new[i+3]\n",
    "        else:\n",
    "            # 001--\n",
    "            if 100 < new[i] < 1000:\n",
    "                instructs = new[i] - 100\n",
    "                param1 = new[i+1]\n",
    "                if new[i+2] < len(new):\n",
    "                    param2 = new[new[i+2]]\n",
    "                param3 = new[i+3]\n",
    "            # 010--\n",
    "            elif 1000 < new[i] < 1100:\n",
    "                instructs = new[i] - 1000\n",
    "                param1 = new[new[i+1]]\n",
    "                param2 = new[i+2]\n",
    "                param3 = new[i+3]\n",
    "            # 011--\n",
    "            elif 1100 < new[i] < 1200:\n",
    "                instructs = new[i] - 1100\n",
    "                param1 = new[i+1]\n",
    "                param2 = new[i+2]\n",
    "                param3 = new[i+3]\n",
    "                \n",
    "        if instructs == 99:\n",
    "            if output == 0:\n",
    "                return (input_val1, None, new)\n",
    "            else:\n",
    "                return (output, None, new)\n",
    "        elif instructs == 1:\n",
    "            new[param3] = param1 + param2\n",
    "            i += 4\n",
    "        elif instructs == 2:\n",
    "            new[param3] = param1 * param2\n",
    "            i += 4\n",
    "        elif instructs == 3:\n",
    "            if not used_first_input:\n",
    "                new[new[i+1]] = input_val1\n",
    "                used_first_input = True\n",
    "            else:\n",
    "                new[new[i+1]] = input_val2\n",
    "            i += 2\n",
    "        elif instructs == 4:\n",
    "            return (param1, i+2, new)\n",
    "        elif instructs == 5:\n",
    "            if param1 != 0:\n",
    "                i = param2\n",
    "            else:\n",
    "                i += 3\n",
    "        elif instructs == 6:\n",
    "            if param1 == 0:\n",
    "                i = param2\n",
    "            else:\n",
    "                i += 3\n",
    "        elif instructs == 7:\n",
    "            if param1 < param2:\n",
    "                new[param3] = 1\n",
    "            else:\n",
    "                new[param3] = 0\n",
    "            i += 4\n",
    "        elif instructs == 8:\n",
    "            if param1 == param2:\n",
    "                new[param3] = 1\n",
    "            else:\n",
    "                new[param3] = 0\n",
    "            i += 4\n",
    "    return None"
   ]
  },
  {
   "cell_type": "code",
   "execution_count": 52,
   "metadata": {},
   "outputs": [],
   "source": [
    "day7_input = [3,8,1001,8,10,8,105,1,0,0,21,42,51,76,93,110,191,272,353,434,99999,3,9,1002,9,2,9,1001,9,3,9,1002,9,3,9,1001,9,2,9,4,9,99,3,9,1002,9,3,9,4,9,99,3,9,1002,9,4,9,101,5,9,9,1002,9,3,9,1001,9,4,9,1002,9,5,9,4,9,99,3,9,1002,9,5,9,101,3,9,9,102,5,9,9,4,9,99,3,9,1002,9,5,9,101,5,9,9,1002,9,2,9,4,9,99,3,9,1002,9,2,9,4,9,3,9,1002,9,2,9,4,9,3,9,101,2,9,9,4,9,3,9,1001,9,2,9,4,9,3,9,1001,9,1,9,4,9,3,9,101,1,9,9,4,9,3,9,1001,9,1,9,4,9,3,9,102,2,9,9,4,9,3,9,1001,9,2,9,4,9,3,9,101,1,9,9,4,9,99,3,9,1001,9,1,9,4,9,3,9,1001,9,2,9,4,9,3,9,101,2,9,9,4,9,3,9,102,2,9,9,4,9,3,9,1001,9,1,9,4,9,3,9,1002,9,2,9,4,9,3,9,1001,9,2,9,4,9,3,9,102,2,9,9,4,9,3,9,101,1,9,9,4,9,3,9,1002,9,2,9,4,9,99,3,9,1002,9,2,9,4,9,3,9,1002,9,2,9,4,9,3,9,101,2,9,9,4,9,3,9,101,1,9,9,4,9,3,9,101,2,9,9,4,9,3,9,1002,9,2,9,4,9,3,9,102,2,9,9,4,9,3,9,1002,9,2,9,4,9,3,9,1002,9,2,9,4,9,3,9,1002,9,2,9,4,9,99,3,9,1002,9,2,9,4,9,3,9,102,2,9,9,4,9,3,9,1001,9,2,9,4,9,3,9,1002,9,2,9,4,9,3,9,1001,9,1,9,4,9,3,9,1002,9,2,9,4,9,3,9,1001,9,1,9,4,9,3,9,1001,9,1,9,4,9,3,9,102,2,9,9,4,9,3,9,1001,9,1,9,4,9,99,3,9,1002,9,2,9,4,9,3,9,102,2,9,9,4,9,3,9,102,2,9,9,4,9,3,9,1001,9,2,9,4,9,3,9,102,2,9,9,4,9,3,9,1002,9,2,9,4,9,3,9,1001,9,1,9,4,9,3,9,101,2,9,9,4,9,3,9,101,1,9,9,4,9,3,9,102,2,9,9,4,9,99]"
   ]
  },
  {
   "cell_type": "code",
   "execution_count": 53,
   "metadata": {},
   "outputs": [],
   "source": [
    "def permutation(input_list):\n",
    "    return_list = []\n",
    "    \n",
    "    if len(input_list) == 0:\n",
    "        return []\n",
    "    if len(input_list) == 1:\n",
    "        return [input_list]\n",
    "    \n",
    "    for i in range(len(input_list)):\n",
    "        m = input_list[i]\n",
    "        remaining = input_list[:i] + input_list[i+1:]\n",
    "        \n",
    "        for p in permutation(remaining):\n",
    "            return_list.append([m] + p)\n",
    "    \n",
    "    return return_list"
   ]
  },
  {
   "cell_type": "code",
   "execution_count": 54,
   "metadata": {},
   "outputs": [],
   "source": [
    "poss_perms = permutation([5,6,7,8,9])"
   ]
  },
  {
   "cell_type": "code",
   "execution_count": 55,
   "metadata": {},
   "outputs": [],
   "source": [
    "def testPerm(poss_list, day7_input_list):\n",
    "    prev_output = [(0,0,day7_input_list), (0,0,day7_input_list), (0,0,day7_input_list),\n",
    "                   (0,0,day7_input_list), (0,0,day7_input_list)]\n",
    "    for i in range(len(poss_list)):\n",
    "        prev_output[i] = intCode3(prev_output[i][2], poss_list[i], input_val2=prev_output[i][0])\n",
    "        if i+1 < len(poss_list):\n",
    "            prev_output[i+1] = (prev_output[i][0], prev_output[i+1][1], prev_output[i+1][2])\n",
    "        else:\n",
    "            prev_output[0] = (prev_output[i][0], prev_output[0][1], prev_output[0][2])\n",
    "    while True:\n",
    "        for i in range(len(poss_list)):\n",
    "            temp = intCode3(prev_output[i][2], prev_output[i][0], last_instruct=prev_output[i][1])\n",
    "            #print(temp[0])\n",
    "            if temp != None and temp[1] != None:\n",
    "                prev_output[i] = temp\n",
    "                if temp[1] > len(day7_input_list)-2 and prev_output[i][2][temp[1]] != 99:\n",
    "                    prev_output[i] = (temp[0], 0, temp[2])\n",
    "                if i+1 < len(poss_list):\n",
    "                    prev_output[i+1] = (prev_output[i][0], prev_output[i+1][1], prev_output[i+1][2])\n",
    "                else:\n",
    "                    prev_output[0] = (prev_output[i][0], prev_output[0][1], prev_output[0][2])\n",
    "            else:\n",
    "                return (poss_list, prev_output[-1][0])\n",
    "    return (poss_list, prev_output[-1][0])"
   ]
  },
  {
   "cell_type": "code",
   "execution_count": 56,
   "metadata": {},
   "outputs": [
    {
     "data": {
      "text/plain": [
       "([9, 8, 7, 6, 5], 139629729)"
      ]
     },
     "execution_count": 56,
     "metadata": {},
     "output_type": "execute_result"
    }
   ],
   "source": [
    "example = [3,26,1001,26,-4,26,3,27,1002,27,2,27,1,27,26,27,4,27,1001,28,-1,28,1005,28,6,99,0,0,5]\n",
    "test_input = [9,8,7,6,5]\n",
    "testPerm(test_input, example)"
   ]
  },
  {
   "cell_type": "code",
   "execution_count": 57,
   "metadata": {},
   "outputs": [],
   "source": [
    "overall_list = []\n",
    "for poss in poss_perms:\n",
    "    overall_list.append(testPerm(poss, day7_input))"
   ]
  },
  {
   "cell_type": "code",
   "execution_count": 58,
   "metadata": {},
   "outputs": [],
   "source": [
    "overall_list.sort(key=lambda x:x[1], reverse=True)"
   ]
  },
  {
   "cell_type": "code",
   "execution_count": 59,
   "metadata": {},
   "outputs": [],
   "source": [
    "#overall_list"
   ]
  },
  {
   "cell_type": "markdown",
   "metadata": {},
   "source": [
    "---\n",
    "### Day 8"
   ]
  },
  {
   "cell_type": "code",
   "execution_count": 60,
   "metadata": {},
   "outputs": [],
   "source": [
    "f = open('day8.txt')\n",
    "day8_raw_input = f.read()\n",
    "f.close()"
   ]
  },
  {
   "cell_type": "code",
   "execution_count": 61,
   "metadata": {},
   "outputs": [],
   "source": [
    "dim = (25,6)\n",
    "day8_input = [int(char) for char in day8_raw_input]"
   ]
  },
  {
   "cell_type": "code",
   "execution_count": 62,
   "metadata": {},
   "outputs": [],
   "source": [
    "day8_array = np.array(day8_input)"
   ]
  },
  {
   "cell_type": "code",
   "execution_count": 63,
   "metadata": {},
   "outputs": [],
   "source": [
    "day8_array.shape = (int(len(day8_input) / (25*6)), 6*25)"
   ]
  },
  {
   "cell_type": "code",
   "execution_count": 64,
   "metadata": {},
   "outputs": [
    {
     "name": "stdout",
     "output_type": "stream",
     "text": [
      "[(5, 142), (4, 141), (10, 140), (15, 140), (16, 140), (18, 140), (1, 139), (2, 139), (14, 139), (38, 139), (6, 138), (8, 138), (11, 138), (20, 138), (3, 137), (7, 137), (12, 137), (17, 137), (19, 137), (23, 137), (33, 137), (9, 136), (28, 135), (29, 135), (43, 135), (21, 134), (24, 134), (26, 134), (31, 134), (32, 134), (25, 133), (34, 133), (37, 133), (39, 133), (13, 132), (36, 132), (42, 132), (27, 131), (44, 131), (65, 130), (0, 129), (22, 129), (30, 129), (45, 129), (58, 128), (41, 127), (52, 127), (48, 126), (81, 126), (35, 125), (50, 125), (40, 124), (46, 124), (53, 124), (66, 124), (59, 123), (70, 123), (75, 123), (55, 122), (57, 122), (51, 121), (56, 121), (68, 121), (49, 120), (63, 120), (71, 120), (77, 120), (85, 120), (47, 119), (60, 119), (64, 119), (69, 119), (54, 118), (73, 118), (67, 117), (86, 117), (89, 117), (61, 116), (72, 116), (91, 116), (93, 116), (74, 115), (76, 115), (87, 115), (80, 113), (62, 112), (83, 112), (95, 112), (79, 111), (88, 109), (90, 109), (92, 107), (84, 106), (78, 105), (94, 105), (97, 105), (82, 104), (98, 104), (96, 101), (99, 86)]\n"
     ]
    }
   ],
   "source": [
    "num_not_zeros = []\n",
    "for i in range(len(day8_array)):\n",
    "    num_not_zeros.append((i,len(np.nonzero(day8_array[i])[0])))\n",
    "num_not_zeros.sort(reverse=True, key=lambda x:x[1])\n",
    "print(num_not_zeros)    "
   ]
  },
  {
   "cell_type": "code",
   "execution_count": 65,
   "metadata": {},
   "outputs": [
    {
     "name": "stdout",
     "output_type": "stream",
     "text": [
      "1072\n"
     ]
    }
   ],
   "source": [
    "num_ones = 0\n",
    "num_twos = 0\n",
    "for i in day8_array[5]:\n",
    "    if i == 1: num_ones += 1\n",
    "    elif i == 2: num_twos += 1\n",
    "print(num_ones * num_twos)"
   ]
  },
  {
   "cell_type": "code",
   "execution_count": 66,
   "metadata": {},
   "outputs": [],
   "source": [
    "new_array = np.full(6*25, 2)"
   ]
  },
  {
   "cell_type": "code",
   "execution_count": 67,
   "metadata": {},
   "outputs": [],
   "source": [
    "for array in day8_array:\n",
    "    for i in range(len(array)):\n",
    "        if new_array[i] == 2:\n",
    "            new_array[i] = array[i]"
   ]
  },
  {
   "cell_type": "code",
   "execution_count": 68,
   "metadata": {},
   "outputs": [
    {
     "name": "stdout",
     "output_type": "stream",
     "text": [
      "[1 0 0 0 1 1 0 0 0 0 1 1 1 1 0 1 1 1 0 0 0 0 1 1 0]\n",
      "[1 0 0 0 1 1 0 0 0 0 1 0 0 0 0 1 0 0 1 0 0 0 0 1 0]\n",
      "[0 1 0 1 0 1 0 0 0 0 1 1 1 0 0 1 0 0 1 0 0 0 0 1 0]\n",
      "[0 0 1 0 0 1 0 0 0 0 1 0 0 0 0 1 1 1 0 0 0 0 0 1 0]\n",
      "[0 0 1 0 0 1 0 0 0 0 1 0 0 0 0 1 0 0 0 0 1 0 0 1 0]\n",
      "[0 0 1 0 0 1 1 1 1 0 1 0 0 0 0 1 0 0 0 0 0 1 1 0 0]\n"
     ]
    }
   ],
   "source": [
    "for i in range(0, len(new_array), 25):\n",
    "    print(new_array[i:i+25])"
   ]
  },
  {
   "cell_type": "code",
   "execution_count": 69,
   "metadata": {},
   "outputs": [],
   "source": [
    "#YLFPJ"
   ]
  },
  {
   "cell_type": "markdown",
   "metadata": {},
   "source": [
    "---\n",
    "### Day 9"
   ]
  },
  {
   "cell_type": "code",
   "execution_count": 142,
   "metadata": {},
   "outputs": [],
   "source": [
    "f = open(\"day9.txt\")\n",
    "day9_raw_input = f.read()\n",
    "f.close()\n",
    "\n",
    "day9_input = []\n",
    "new_list9 = day9_raw_input.split(\",\")\n",
    "for i in new_list9:\n",
    "    day9_input.append(int(i))"
   ]
  },
  {
   "cell_type": "code",
   "execution_count": 160,
   "metadata": {},
   "outputs": [],
   "source": [
    "def intCode4(input_list, input_val):\n",
    "    new = {n:input_list[n] for n in range(len(input_list))}\n",
    "    extra_values = []\n",
    "    i = 0\n",
    "    relative_base = 0\n",
    "    length = len(list(new.keys()))\n",
    "    while i < length:\n",
    "        #print(i)\n",
    "        if new[i] < 100: \n",
    "            instructs = new[i]\n",
    "            if i+1 in new:\n",
    "                if new[i+1] not in new:\n",
    "                    new[new[i+1]] = 0\n",
    "                param1 = new[new[i+1]]\n",
    "            else:\n",
    "                new[i+1] = 0\n",
    "                param1 = new[new[i+1]]\n",
    "                \n",
    "            if i+2 in new:\n",
    "                if new[i+2] not in new:\n",
    "                    new[new[i+2]] = 0\n",
    "                param2 = new[new[i+2]]\n",
    "            else:\n",
    "                new[i+2] = 0\n",
    "                param2 = new[new[i+2]]\n",
    "              \n",
    "            if i+3 in new:\n",
    "                param3 = new[i+3]\n",
    "            else:\n",
    "                new[i+3] = 0\n",
    "                param3 = new[i+3]\n",
    "        else:\n",
    "            p = str(new[i])\n",
    "            if len(p) < 4:\n",
    "                p = '00' + p\n",
    "            elif len(p) < 5:\n",
    "                p = '0' + p \n",
    "            #print(p)\n",
    "                \n",
    "            instructs = int(p[-2:])\n",
    "            \n",
    "            # PARAM1\n",
    "            # --0--\n",
    "            if p[2] == '0':\n",
    "                if new[i+1] not in new:\n",
    "                    new[new[i+1]] = 0\n",
    "                param1 = new[new[i+1]]\n",
    "            # --1--\n",
    "            elif p[2] == '1':\n",
    "                param1 = new[i+1]\n",
    "            # --2--\n",
    "            elif p[2] == '2':\n",
    "                if p[4] == '3':\n",
    "                    param1 = relative_base + new[i+1]\n",
    "                else:\n",
    "                    if relative_base + new[i+1] not in new:\n",
    "                        new[relative_base + new[i+1]] = 0\n",
    "                    param1 = new[relative_base + new[i+1]]\n",
    "            \n",
    "            # PARAM2\n",
    "            # -0---\n",
    "            if p[1] == '0':\n",
    "                if new[i+2] not in new:\n",
    "                    new[new[i+2]] = 0\n",
    "                param2 = new[new[i+2]]\n",
    "            # -1---\n",
    "            elif p[1] == '1':\n",
    "                param2 = new[i+2]\n",
    "            # -2---\n",
    "            elif p[1] == '2':\n",
    "                if relative_base + new[i+2] not in new:\n",
    "                    new[relative_base + new[i+2]] = 0   \n",
    "                param2 = new[relative_base + new[i+2]]\n",
    "            \n",
    "            # PARAM3\n",
    "            # 0----\n",
    "            if p[0] == '0':\n",
    "                if i+3 not in new:\n",
    "                    new[i+3] = 0\n",
    "                param3 = new[i+3]\n",
    "            # 1----\n",
    "            elif p[0] == '1':\n",
    "                param3 = i+3\n",
    "            # 2----\n",
    "            elif p[0] == '2':\n",
    "                param3 = relative_base + new[i+3]\n",
    "        \n",
    "        length = len(list(new.keys()))\n",
    "        \n",
    "        if instructs == 99:\n",
    "            break\n",
    "        elif instructs == 1:\n",
    "            new[param3] = param1 + param2\n",
    "            i += 4\n",
    "        elif instructs == 2:\n",
    "            new[param3] = param1 * param2\n",
    "            i += 4\n",
    "        elif instructs == 3:\n",
    "            new[param1] = input_val\n",
    "            i += 2\n",
    "        elif instructs == 4:\n",
    "            print(param1)\n",
    "            i += 2\n",
    "        elif instructs == 5:\n",
    "            if param1 != 0:\n",
    "                i = param2\n",
    "            else:\n",
    "                i += 3\n",
    "        elif instructs == 6:\n",
    "            if param1 == 0:\n",
    "                i = param2\n",
    "            else:\n",
    "                i += 3\n",
    "        elif instructs == 7:\n",
    "            if param1 < param2:\n",
    "                new[param3] = 1\n",
    "            else:\n",
    "                new[param3] = 0\n",
    "            i += 4\n",
    "        elif instructs == 8:\n",
    "            if param1 == param2:\n",
    "                new[param3] = 1\n",
    "            else:\n",
    "                new[param3] = 0\n",
    "            i += 4\n",
    "        elif instructs == 9:\n",
    "            relative_base += param1\n",
    "            i += 2"
   ]
  },
  {
   "cell_type": "code",
   "execution_count": 161,
   "metadata": {},
   "outputs": [
    {
     "name": "stdout",
     "output_type": "stream",
     "text": [
      "2890527621\n"
     ]
    }
   ],
   "source": [
    "intCode4(day9_input, 1)"
   ]
  },
  {
   "cell_type": "code",
   "execution_count": 162,
   "metadata": {},
   "outputs": [
    {
     "name": "stdout",
     "output_type": "stream",
     "text": [
      "66772\n"
     ]
    }
   ],
   "source": [
    "intCode4(day9_input, 2)"
   ]
  },
  {
   "cell_type": "markdown",
   "metadata": {},
   "source": [
    "---\n",
    "### Day 10"
   ]
  },
  {
   "cell_type": "code",
   "execution_count": 163,
   "metadata": {},
   "outputs": [],
   "source": [
    "# slopes of asteroids from current testing point"
   ]
  },
  {
   "cell_type": "code",
   "execution_count": 187,
   "metadata": {},
   "outputs": [],
   "source": [
    "f = open('day10.txt')\n",
    "day10_raw_input = f.readlines()\n",
    "f.close()\n",
    "\n",
    "day10_input = []\n",
    "for row in day10_raw_input:\n",
    "    day10_input.append([r for r in row[:-1]])"
   ]
  },
  {
   "cell_type": "code",
   "execution_count": 188,
   "metadata": {},
   "outputs": [],
   "source": [
    "day10_dict = {}\n",
    "height = len(day10_input)\n",
    "width = len(day10_input[0])\n",
    "for i in range(height):\n",
    "    for j in range(width):\n",
    "        day10_dict[(j,i)] = day10_input[i][j]"
   ]
  },
  {
   "cell_type": "code",
   "execution_count": null,
   "metadata": {},
   "outputs": [],
   "source": []
  },
  {
   "cell_type": "code",
   "execution_count": null,
   "metadata": {},
   "outputs": [],
   "source": []
  }
 ],
 "metadata": {
  "kernelspec": {
   "display_name": "Python 3",
   "language": "python",
   "name": "python3"
  },
  "language_info": {
   "codemirror_mode": {
    "name": "ipython",
    "version": 3
   },
   "file_extension": ".py",
   "mimetype": "text/x-python",
   "name": "python",
   "nbconvert_exporter": "python",
   "pygments_lexer": "ipython3",
   "version": "3.7.3"
  }
 },
 "nbformat": 4,
 "nbformat_minor": 2
}
