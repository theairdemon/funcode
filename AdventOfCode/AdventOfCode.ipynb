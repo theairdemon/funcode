{
 "cells": [
  {
   "cell_type": "markdown",
   "metadata": {},
   "source": [
    "# Advent of Code"
   ]
  },
  {
   "cell_type": "code",
   "execution_count": 1,
   "metadata": {},
   "outputs": [],
   "source": [
    "import math"
   ]
  },
  {
   "cell_type": "markdown",
   "metadata": {},
   "source": [
    "---\n",
    "### Day 1"
   ]
  },
  {
   "cell_type": "code",
   "execution_count": 17,
   "metadata": {},
   "outputs": [],
   "source": [
    "def getFuelVals(input_list):\n",
    "    total = 0\n",
    "    for i in range(len(input_list)):\n",
    "        fuel = getFuel(input_list[i])        \n",
    "        while fuel > 0:\n",
    "            total += fuel\n",
    "            fuel = getFuel(fuel)\n",
    "    return total"
   ]
  },
  {
   "cell_type": "code",
   "execution_count": 18,
   "metadata": {},
   "outputs": [],
   "source": [
    "def getFuel(input_val):\n",
    "    return math.floor(input_val / 3) - 2"
   ]
  },
  {
   "cell_type": "code",
   "execution_count": 19,
   "metadata": {},
   "outputs": [],
   "source": [
    "f = open(\"day1.txt\")\n",
    "day1_raw_input = f.readlines()\n",
    "f.close()"
   ]
  },
  {
   "cell_type": "code",
   "execution_count": 20,
   "metadata": {},
   "outputs": [],
   "source": [
    "day1_input = []\n",
    "for fuel in day1_raw_input:\n",
    "    day1_input.append(int(fuel[:-1]))"
   ]
  },
  {
   "cell_type": "code",
   "execution_count": 21,
   "metadata": {},
   "outputs": [
    {
     "name": "stdout",
     "output_type": "stream",
     "text": [
      "5055835\n"
     ]
    }
   ],
   "source": [
    "print(getFuelVals(day1_input))"
   ]
  },
  {
   "cell_type": "markdown",
   "metadata": {},
   "source": [
    "---\n",
    "### Day 2"
   ]
  },
  {
   "cell_type": "code",
   "execution_count": 46,
   "metadata": {},
   "outputs": [],
   "source": [
    "def intCode(input_list):\n",
    "    new = input_list[:]\n",
    "    for i in range(0, len(new), 4):\n",
    "        if new[i] == 99:\n",
    "            return new\n",
    "        elif new[i] == 1:\n",
    "            new[new[i+3]] = new[new[i+1]] + new[new[i+2]]\n",
    "        elif new[i] == 2:\n",
    "            new[new[i+3]] = new[new[i+1]] * new[new[i+2]]\n",
    "        else:\n",
    "            return new"
   ]
  },
  {
   "cell_type": "code",
   "execution_count": 39,
   "metadata": {},
   "outputs": [],
   "source": [
    "f = open(\"day2.txt\")\n",
    "day2_raw_input = f.read()\n",
    "f.close()"
   ]
  },
  {
   "cell_type": "code",
   "execution_count": 40,
   "metadata": {},
   "outputs": [],
   "source": [
    "day2_input = []\n",
    "new_list = day2_raw_input.split(\",\")\n",
    "for i in new_list:\n",
    "    day2_input.append(int(i))"
   ]
  },
  {
   "cell_type": "code",
   "execution_count": 47,
   "metadata": {},
   "outputs": [
    {
     "name": "stdout",
     "output_type": "stream",
     "text": [
      "[4484226, 12, 2, 2, 1, 1, 2, 3, 1, 3, 4, 3, 1, 5, 0, 3, 2, 6, 1, 24, 1, 5, 19, 25, 2, 6, 23, 50, 1, 27, 5, 51, 2, 9, 31, 153, 1, 5, 35, 154, 2, 6, 39, 308, 2, 6, 43, 616, 1, 5, 47, 617, 2, 9, 51, 1851, 1, 5, 55, 1852, 1, 10, 59, 1856, 1, 63, 6, 1858, 1, 9, 67, 1861, 1, 71, 6, 1863, 1, 75, 13, 1868, 2, 79, 13, 9340, 2, 9, 83, 28020, 1, 87, 5, 28021, 1, 9, 91, 28024, 2, 10, 95, 112096, 1, 5, 99, 112097, 1, 103, 9, 112100, 1, 13, 107, 112105, 2, 111, 10, 448420, 1, 115, 5, 448421, 2, 13, 119, 2242105, 1, 9, 123, 2242108, 1, 5, 127, 2242109, 2, 131, 6, 4484218, 1, 135, 5, 4484219, 1, 139, 6, 4484221, 1, 143, 6, 4484223, 1, 2, 147, 4484225, 1, 151, 5, 0, 99, 2, 14, 0, 0]\n"
     ]
    }
   ],
   "source": [
    "day2_input[1] = 12\n",
    "day2_input[2] = 2\n",
    "print(intCode(day2_input))"
   ]
  },
  {
   "cell_type": "code",
   "execution_count": null,
   "metadata": {},
   "outputs": [],
   "source": []
  }
 ],
 "metadata": {
  "kernelspec": {
   "display_name": "Python 3",
   "language": "python",
   "name": "python3"
  },
  "language_info": {
   "codemirror_mode": {
    "name": "ipython",
    "version": 3
   },
   "file_extension": ".py",
   "mimetype": "text/x-python",
   "name": "python",
   "nbconvert_exporter": "python",
   "pygments_lexer": "ipython3",
   "version": "3.7.3"
  }
 },
 "nbformat": 4,
 "nbformat_minor": 2
}
