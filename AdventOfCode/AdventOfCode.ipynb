{
 "cells": [
  {
   "cell_type": "markdown",
   "metadata": {},
   "source": [
    "# Advent of Code"
   ]
  },
  {
   "cell_type": "code",
   "execution_count": 61,
   "metadata": {},
   "outputs": [],
   "source": [
    "import math\n",
    "import numpy as np"
   ]
  },
  {
   "cell_type": "markdown",
   "metadata": {},
   "source": [
    "---\n",
    "### Day 1"
   ]
  },
  {
   "cell_type": "code",
   "execution_count": 49,
   "metadata": {},
   "outputs": [],
   "source": [
    "def getFuelVals(input_list):\n",
    "    total = 0\n",
    "    for i in range(len(input_list)):\n",
    "        fuel = getFuel(input_list[i])        \n",
    "        while fuel > 0:\n",
    "            total += fuel\n",
    "            fuel = getFuel(fuel)\n",
    "    return total"
   ]
  },
  {
   "cell_type": "code",
   "execution_count": 50,
   "metadata": {},
   "outputs": [],
   "source": [
    "def getFuel(input_val):\n",
    "    return math.floor(input_val / 3) - 2"
   ]
  },
  {
   "cell_type": "code",
   "execution_count": 51,
   "metadata": {},
   "outputs": [],
   "source": [
    "f = open(\"day1.txt\")\n",
    "day1_raw_input = f.readlines()\n",
    "f.close()"
   ]
  },
  {
   "cell_type": "code",
   "execution_count": 52,
   "metadata": {},
   "outputs": [],
   "source": [
    "day1_input = []\n",
    "for fuel in day1_raw_input:\n",
    "    day1_input.append(int(fuel[:-1]))"
   ]
  },
  {
   "cell_type": "code",
   "execution_count": 53,
   "metadata": {},
   "outputs": [
    {
     "name": "stdout",
     "output_type": "stream",
     "text": [
      "5055835\n"
     ]
    }
   ],
   "source": [
    "print(getFuelVals(day1_input))"
   ]
  },
  {
   "cell_type": "markdown",
   "metadata": {},
   "source": [
    "---\n",
    "### Day 2"
   ]
  },
  {
   "cell_type": "code",
   "execution_count": 58,
   "metadata": {},
   "outputs": [],
   "source": [
    "def intCode(input_list):\n",
    "    new = input_list[:]\n",
    "    for i in range(0, len(new), 4):\n",
    "        if new[i] == 99:\n",
    "            return new\n",
    "        elif new[i] == 1:\n",
    "            new[new[i+3]] = new[new[i+1]] + new[new[i+2]]\n",
    "        elif new[i] == 2:\n",
    "            new[new[i+3]] = new[new[i+1]] * new[new[i+2]]\n",
    "        else:\n",
    "            return new"
   ]
  },
  {
   "cell_type": "code",
   "execution_count": 56,
   "metadata": {},
   "outputs": [],
   "source": [
    "f = open(\"day2.txt\")\n",
    "day2_raw_input = f.read()\n",
    "f.close()\n",
    "\n",
    "day2_input = []\n",
    "new_list = day2_raw_input.split(\",\")\n",
    "for i in new_list:\n",
    "    day2_input.append(int(i))"
   ]
  },
  {
   "cell_type": "code",
   "execution_count": 157,
   "metadata": {},
   "outputs": [
    {
     "name": "stdout",
     "output_type": "stream",
     "text": [
      "[4484226, 12, 2, 2, 1, 1, 2, 3, 1, 3, 4, 3, 1, 5, 0, 3, 2, 6, 1, 24, 1, 5, 19, 25, 2, 6, 23, 50, 1, 27, 5, 51, 2, 9, 31, 153, 1, 5, 35, 154, 2, 6, 39, 308, 2, 6, 43, 616, 1, 5, 47, 617, 2, 9, 51, 1851, 1, 5, 55, 1852, 1, 10, 59, 1856, 1, 63, 6, 1858, 1, 9, 67, 1861, 1, 71, 6, 1863, 1, 75, 13, 1868, 2, 79, 13, 9340, 2, 9, 83, 28020, 1, 87, 5, 28021, 1, 9, 91, 28024, 2, 10, 95, 112096, 1, 5, 99, 112097, 1, 103, 9, 112100, 1, 13, 107, 112105, 2, 111, 10, 448420, 1, 115, 5, 448421, 2, 13, 119, 2242105, 1, 9, 123, 2242108, 1, 5, 127, 2242109, 2, 131, 6, 4484218, 1, 135, 5, 4484219, 1, 139, 6, 4484221, 1, 143, 6, 4484223, 1, 2, 147, 4484225, 1, 151, 5, 0, 99, 2, 14, 0, 0]\n"
     ]
    }
   ],
   "source": [
    "day2_input[1] = 12\n",
    "day2_input[2] = 2\n",
    "print(intCode(day2_input))"
   ]
  },
  {
   "cell_type": "code",
   "execution_count": 158,
   "metadata": {},
   "outputs": [
    {
     "name": "stdout",
     "output_type": "stream",
     "text": [
      "5696\n"
     ]
    }
   ],
   "source": [
    "for i in range(0,100):\n",
    "    day2_input[1] = i\n",
    "    for j in range(0,100):\n",
    "        day2_input[2] = j\n",
    "        testVal = intCode(day2_input)[0]\n",
    "        if testVal == 19690720:\n",
    "            print(100 * i + j)\n",
    "            break"
   ]
  },
  {
   "cell_type": "markdown",
   "metadata": {},
   "source": [
    "---\n",
    "### Day 3"
   ]
  },
  {
   "cell_type": "code",
   "execution_count": 129,
   "metadata": {},
   "outputs": [],
   "source": [
    "def get_new_points(ind, d_val, num, point):\n",
    "    points_list = []\n",
    "    for i in range(1, num+1):\n",
    "        if ind == 0:\n",
    "            if d_val == 'R':\n",
    "                points_list.append((point[0]+i, point[1]))\n",
    "            else:\n",
    "                points_list.append((point[0]-i, point[1]))\n",
    "        else:\n",
    "            if d_val == 'U':\n",
    "                points_list.append((point[0], point[1]+i))\n",
    "            else:\n",
    "                points_list.append((point[0], point[1]-i))\n",
    "    return points_list"
   ]
  },
  {
   "cell_type": "code",
   "execution_count": 130,
   "metadata": {},
   "outputs": [],
   "source": [
    "def wire_coords(wire_directions):\n",
    "    wire_points = []\n",
    "    central_point = (0,0)\n",
    "    current_point = central_point\n",
    "    for d in wire_directions:\n",
    "        num = int(d[1:])\n",
    "        if d[0] == 'R' or d[0] == 'L':\n",
    "            wire_points += get_new_points(0, d[0], num, current_point)\n",
    "        elif d[0] == 'U' or d[0] == 'D':\n",
    "            wire_points += get_new_points(1, d[0], num, current_point)\n",
    "        current_point = wire_points[-1]\n",
    "    return wire_points"
   ]
  },
  {
   "cell_type": "code",
   "execution_count": 131,
   "metadata": {},
   "outputs": [],
   "source": [
    "f = open('day3.txt')\n",
    "day3_raw_input = f.readlines()\n",
    "f.close()"
   ]
  },
  {
   "cell_type": "code",
   "execution_count": 132,
   "metadata": {},
   "outputs": [],
   "source": [
    "day3_input = [line.split(\",\") for line in day3_raw_input]"
   ]
  },
  {
   "cell_type": "code",
   "execution_count": 135,
   "metadata": {},
   "outputs": [],
   "source": [
    "wire1 = wire_coords(day3_input[0])\n",
    "wire2 = wire_coords(day3_input[1])"
   ]
  },
  {
   "cell_type": "code",
   "execution_count": 136,
   "metadata": {},
   "outputs": [],
   "source": [
    "def find_intersections(input1, input2):\n",
    "    intersections = []\n",
    "    set2 = set(input2)\n",
    "    for p1 in input1:\n",
    "        if p1 in set2:\n",
    "            intersections.append(p1)\n",
    "    return intersections"
   ]
  },
  {
   "cell_type": "code",
   "execution_count": 140,
   "metadata": {},
   "outputs": [],
   "source": [
    "wire_crossing = [(0,0)] + find_intersections(wire1, wire2)"
   ]
  },
  {
   "cell_type": "code",
   "execution_count": 141,
   "metadata": {},
   "outputs": [
    {
     "name": "stdout",
     "output_type": "stream",
     "text": [
      "[(0, 0), (525, -543), (468, -615), (921, -1459), (1146, -1459), (1261, -1459), (1296, -1459), (1323, -1748), (1261, -1720), (1296, -1081), (1261, -1081), (1220, -1569), (921, -1763), (921, -1430), (372, -2052), (372, -1948), (372, -1877), (271, -1464), (-361, -656), (-845, -656), (-196, -1028), (-315, -846), (-877, -656), (-1078, -548)]\n"
     ]
    }
   ],
   "source": [
    "print(wire_crossing)"
   ]
  },
  {
   "cell_type": "code",
   "execution_count": 142,
   "metadata": {},
   "outputs": [],
   "source": [
    "def get_closest_intersection(intersections):\n",
    "    central = intersections[0]\n",
    "    s_d = 1000000000000000\n",
    "    s_p = (0,0)\n",
    "    for p in intersections[1:]:\n",
    "        curr_d = abs(p[0])+abs(p[1])\n",
    "        if curr_d < s_d:\n",
    "            s_d = curr_d\n",
    "            s_p = p\n",
    "    return (s_d, s_p)"
   ]
  },
  {
   "cell_type": "code",
   "execution_count": 143,
   "metadata": {},
   "outputs": [
    {
     "data": {
      "text/plain": [
       "(1017, (-361, -656))"
      ]
     },
     "execution_count": 143,
     "metadata": {},
     "output_type": "execute_result"
    }
   ],
   "source": [
    "get_closest_intersection(wire_crossing)"
   ]
  },
  {
   "cell_type": "code",
   "execution_count": 148,
   "metadata": {},
   "outputs": [],
   "source": [
    "def get_smallest_steps(intersections, input1, input2):\n",
    "    central = intersections[0]\n",
    "    s_steps = 1000000000\n",
    "    s_p = (0,0)\n",
    "    \n",
    "    for p in intersections[1:]:\n",
    "        curr_steps = input1.index(p) + input2.index(p) + 2\n",
    "        #print(curr_steps)\n",
    "        if curr_steps < s_steps:\n",
    "            s_steps = curr_steps\n",
    "            s_p = p\n",
    "    return (s_steps, s_p)"
   ]
  },
  {
   "cell_type": "code",
   "execution_count": 149,
   "metadata": {},
   "outputs": [
    {
     "data": {
      "text/plain": [
       "(11432, (525, -543))"
      ]
     },
     "execution_count": 149,
     "metadata": {},
     "output_type": "execute_result"
    }
   ],
   "source": [
    "get_smallest_steps(wire_crossing, wire1, wire2)"
   ]
  },
  {
   "cell_type": "markdown",
   "metadata": {},
   "source": [
    "---\n",
    "### Day 4"
   ]
  },
  {
   "cell_type": "code",
   "execution_count": 176,
   "metadata": {},
   "outputs": [],
   "source": [
    "def passwordCracker(lower, upper):\n",
    "    all_poss = []\n",
    "    for i in range(lower, upper):\n",
    "        all_poss.append(str(i))\n",
    "    \n",
    "    filter_decreasing = []\n",
    "    for num in all_poss:\n",
    "        passed = True\n",
    "        for i in range(len(num)-1):\n",
    "            if int(num[i]) > int(num[i+1]):\n",
    "                passed = False\n",
    "        if passed:\n",
    "            filter_decreasing.append(num)\n",
    "    \n",
    "    filter_double = set()\n",
    "    for num in filter_decreasing:\n",
    "        passed = False\n",
    "        for i in range(len(num)-1):\n",
    "            if num[i] == num[i+1]:\n",
    "                passed = True\n",
    "                filter_double.add(num)\n",
    "                break\n",
    "        \n",
    "    return filter_double\n"
   ]
  },
  {
   "cell_type": "code",
   "execution_count": 177,
   "metadata": {},
   "outputs": [],
   "source": [
    "output1 = passwordCracker(123257, 647015)"
   ]
  },
  {
   "cell_type": "code",
   "execution_count": 178,
   "metadata": {},
   "outputs": [
    {
     "name": "stdout",
     "output_type": "stream",
     "text": [
      "2220\n"
     ]
    }
   ],
   "source": [
    "print(len(output1))"
   ]
  },
  {
   "cell_type": "code",
   "execution_count": 182,
   "metadata": {},
   "outputs": [],
   "source": [
    "def passwordCracker2(prev_output):\n",
    "    filter_just_double = set()\n",
    "    for num in prev_output:\n",
    "        passed = False\n",
    "        for i in range(len(num)-1):\n",
    "            if i == 0:\n",
    "                if num[i] == num[i+1] and num[i] != num[i+2]:\n",
    "                    passed = True\n",
    "            elif i == len(num)-2:\n",
    "                if num[i] == num[i+1] and num[i-1] != num[i]:\n",
    "                    passed = True\n",
    "            else:\n",
    "                if num[i] == num[i+1] and num[i-1] != num[i] and num[i+2] != num[i]:\n",
    "                    passed = True\n",
    "            if passed:\n",
    "                filter_just_double.add(num)\n",
    "                break\n",
    "    return filter_just_double"
   ]
  },
  {
   "cell_type": "code",
   "execution_count": 183,
   "metadata": {},
   "outputs": [],
   "source": [
    "output2 = passwordCracker2(list(output1))"
   ]
  },
  {
   "cell_type": "code",
   "execution_count": 184,
   "metadata": {},
   "outputs": [
    {
     "name": "stdout",
     "output_type": "stream",
     "text": [
      "1515\n"
     ]
    }
   ],
   "source": [
    "print(len(output2))"
   ]
  },
  {
   "cell_type": "markdown",
   "metadata": {},
   "source": [
    "---\n",
    "### Day 5"
   ]
  },
  {
   "cell_type": "code",
   "execution_count": 209,
   "metadata": {},
   "outputs": [],
   "source": [
    "def intCode2(input_list, input_val):\n",
    "    new = input_list[:]\n",
    "    i = 0\n",
    "    while i < len(new):\n",
    "        if new[i] < 100: \n",
    "            instructs = new[i]\n",
    "            param1 = new[new[i+1]]\n",
    "            param2 = new[new[i+2]]\n",
    "            param3 = new[i+3]\n",
    "        else:\n",
    "            # 001--\n",
    "            if 100 < new[i] < 1000:\n",
    "                instructs = new[i] - 100\n",
    "                param1 = new[i+1]\n",
    "                param2 = new[new[i+2]]\n",
    "                param3 = new[i+3]\n",
    "            # 010--\n",
    "            elif 1000 < new[i] < 1100:\n",
    "                instructs = new[i] - 1000\n",
    "                param1 = new[new[i+1]]\n",
    "                param2 = new[i+2]\n",
    "                param3 = new[i+3]\n",
    "            # 011--\n",
    "            elif 1100 < new[i] < 1200:\n",
    "                instructs = new[i] - 1100\n",
    "                param1 = new[i+1]\n",
    "                param2 = new[i+2]\n",
    "                param3 = new[i+3]\n",
    "                \n",
    "        if instructs == 99:\n",
    "            return new\n",
    "        elif instructs == 1:\n",
    "            new[param3] = param1 + param2\n",
    "            i += 4\n",
    "        elif instructs == 2:\n",
    "            new[param3] = param1 * param2\n",
    "            i += 4\n",
    "        elif instructs == 3:\n",
    "            param1 = input_val\n",
    "            i += 2\n",
    "        elif instructs == 4:\n",
    "            print(param1)\n",
    "            i += 2"
   ]
  },
  {
   "cell_type": "code",
   "execution_count": 212,
   "metadata": {},
   "outputs": [],
   "source": [
    "f = open(\"day5.txt\")\n",
    "day5_raw_input = f.read()\n",
    "f.close()\n",
    "\n",
    "day5_input = []\n",
    "new_list = day5_raw_input.split(\",\")\n",
    "for i in new_list:\n",
    "    day5_input.append(int(i))"
   ]
  },
  {
   "cell_type": "code",
   "execution_count": 213,
   "metadata": {},
   "outputs": [
    {
     "ename": "IndexError",
     "evalue": "list index out of range",
     "output_type": "error",
     "traceback": [
      "\u001b[1;31m---------------------------------------------------------------------------\u001b[0m",
      "\u001b[1;31mIndexError\u001b[0m                                Traceback (most recent call last)",
      "\u001b[1;32m<ipython-input-213-ff7eb4232d63>\u001b[0m in \u001b[0;36m<module>\u001b[1;34m\u001b[0m\n\u001b[1;32m----> 1\u001b[1;33m \u001b[0mintCode2\u001b[0m\u001b[1;33m(\u001b[0m\u001b[0mday5_input\u001b[0m\u001b[1;33m,\u001b[0m \u001b[1;36m1\u001b[0m\u001b[1;33m)\u001b[0m\u001b[1;33m\u001b[0m\u001b[1;33m\u001b[0m\u001b[0m\n\u001b[0m",
      "\u001b[1;32m<ipython-input-209-ab0a017085ef>\u001b[0m in \u001b[0;36mintCode2\u001b[1;34m(input_list, input_val)\u001b[0m\n\u001b[0;32m     13\u001b[0m                 \u001b[0minstructs\u001b[0m \u001b[1;33m=\u001b[0m \u001b[0mnew\u001b[0m\u001b[1;33m[\u001b[0m\u001b[0mi\u001b[0m\u001b[1;33m]\u001b[0m \u001b[1;33m-\u001b[0m \u001b[1;36m100\u001b[0m\u001b[1;33m\u001b[0m\u001b[1;33m\u001b[0m\u001b[0m\n\u001b[0;32m     14\u001b[0m                 \u001b[0mparam1\u001b[0m \u001b[1;33m=\u001b[0m \u001b[0mnew\u001b[0m\u001b[1;33m[\u001b[0m\u001b[0mi\u001b[0m\u001b[1;33m+\u001b[0m\u001b[1;36m1\u001b[0m\u001b[1;33m]\u001b[0m\u001b[1;33m\u001b[0m\u001b[1;33m\u001b[0m\u001b[0m\n\u001b[1;32m---> 15\u001b[1;33m                 \u001b[0mparam2\u001b[0m \u001b[1;33m=\u001b[0m \u001b[0mnew\u001b[0m\u001b[1;33m[\u001b[0m\u001b[0mnew\u001b[0m\u001b[1;33m[\u001b[0m\u001b[0mi\u001b[0m\u001b[1;33m+\u001b[0m\u001b[1;36m2\u001b[0m\u001b[1;33m]\u001b[0m\u001b[1;33m]\u001b[0m\u001b[1;33m\u001b[0m\u001b[1;33m\u001b[0m\u001b[0m\n\u001b[0m\u001b[0;32m     16\u001b[0m                 \u001b[0mparam3\u001b[0m \u001b[1;33m=\u001b[0m \u001b[0mnew\u001b[0m\u001b[1;33m[\u001b[0m\u001b[0mi\u001b[0m\u001b[1;33m+\u001b[0m\u001b[1;36m3\u001b[0m\u001b[1;33m]\u001b[0m\u001b[1;33m\u001b[0m\u001b[1;33m\u001b[0m\u001b[0m\n\u001b[0;32m     17\u001b[0m             \u001b[1;31m# 010--\u001b[0m\u001b[1;33m\u001b[0m\u001b[1;33m\u001b[0m\u001b[1;33m\u001b[0m\u001b[0m\n",
      "\u001b[1;31mIndexError\u001b[0m: list index out of range"
     ]
    }
   ],
   "source": [
    "intCode2(day5_input, 1)"
   ]
  },
  {
   "cell_type": "code",
   "execution_count": null,
   "metadata": {},
   "outputs": [],
   "source": []
  }
 ],
 "metadata": {
  "kernelspec": {
   "display_name": "Python 3",
   "language": "python",
   "name": "python3"
  },
  "language_info": {
   "codemirror_mode": {
    "name": "ipython",
    "version": 3
   },
   "file_extension": ".py",
   "mimetype": "text/x-python",
   "name": "python",
   "nbconvert_exporter": "python",
   "pygments_lexer": "ipython3",
   "version": "3.7.3"
  }
 },
 "nbformat": 4,
 "nbformat_minor": 2
}
