{
 "cells": [
  {
   "cell_type": "code",
   "execution_count": 4,
   "metadata": {},
   "outputs": [],
   "source": [
    "import requests\n",
    "import urllib.request\n",
    "import time\n",
    "from bs4 import BeautifulSoup"
   ]
  },
  {
   "cell_type": "markdown",
   "metadata": {},
   "source": [
    "Website address: https://www.wsj.com/"
   ]
  },
  {
   "cell_type": "code",
   "execution_count": 5,
   "metadata": {},
   "outputs": [],
   "source": [
    "url = 'https://www.wsj.com/'\n",
    "response = requests.get(url)"
   ]
  },
  {
   "cell_type": "code",
   "execution_count": 6,
   "metadata": {},
   "outputs": [
    {
     "name": "stdout",
     "output_type": "stream",
     "text": [
      "<Response [200]>\n"
     ]
    }
   ],
   "source": [
    "print(response)"
   ]
  },
  {
   "cell_type": "code",
   "execution_count": 8,
   "metadata": {},
   "outputs": [],
   "source": [
    "soup = BeautifulSoup(response.text, 'html.parser')"
   ]
  },
  {
   "cell_type": "code",
   "execution_count": 26,
   "metadata": {},
   "outputs": [
    {
     "name": "stdout",
     "output_type": "stream",
     "text": [
      "Iran Releases American Citizen in Prisoner Swap\n",
      "PG&E Fire Victim Settlement Threatens Elliott Plan\n",
      "Pensacola Gunman Played Shooting Videos Before Attack\n",
      "FedEx Taps Into Mississippi Delta to Find Workers\n",
      "Black Voters Back Medicare for All, Not So Much the Candidates Pushing It\n",
      "Amazon, Facebook Expand in New York\n",
      "Mexico’s Polarizing President Presides Over Rising Violence, Flailing Economy\n",
      "Anthony Joshua Reclaims World Heavyweight Title\n",
      "Disney Disturbs the Force: Pleasing Star Wars Fans Complicates Saga\n",
      "Financial Abuse in the Age of Smartphones\n",
      "Brace for the Digital-Money Wars\n",
      "How ‘No Loan’ College Works (It Doesn’t Mean Free)\n",
      "The Drama Over ‘Pageant Hopping’ That Shook a Miss Universe Competition\n",
      "Design Books That Are Beautiful (and Practical) Enough to Give\n",
      "Why the Old Look Down on the Young\n",
      "How to Wear Diamonds for Holiday Events\n",
      "Miami Souvenirs: An Unconventional Shopper’s Guide\n",
      "Margaret Thatcher’s Battle Over Europe\n",
      "Allan Gerson Made Libya Pay for Pan Am 103 Bombing\n",
      "Joe Smith Ran Record Labels and Signed the Grateful Dead\n",
      "Donald Marron, PaineWebber Chief and Art Collector, Dies at Age 85\n",
      "Migrants Sent Back to War Zone by Libyan Coast Guard\n",
      "If You Have a Side Hustle, You Should Make These Tax Moves\n",
      "Apple’s New Buds Sing an Old Tune\n",
      "Trump Says Giuliani Will Make a Report to Attorney General on Trip to Ukraine\n",
      "Congress, White House Reach Tentative Deal Over Paid Parental Leave for Federal Workers\n",
      "Buttigieg Releases Details About His Work at McKinsey\n",
      "States’ Shift From Caucuses  Is Challenge for Sanders, Warren\n",
      "None\n",
      "None\n",
      "None\n",
      "Strong U.S. Hiring Eases Concerns About Economy\n",
      "November Jobs Report Affirms Fed Officials’ Make-No-Moves Stance\n",
      "Jobs Data Expected to Show Solid Employment Growth\n",
      "Mansion Once Owned by a Vanderbilt Is Listing for $68 Million\n",
      "Elon Musk Buys Out the Neighbors\n",
      "So Your Dog Can Roll Over. Can It Pass a Co-op Board Interview?\n",
      "In Figure Skating, Is It Ever OK to Perform to “Schindler’s List?”\n",
      "What Steve Cohen Means for the Future of the Mets\n",
      "There’s a Hole in My Life: The Warriors Are Gone.\n",
      "None\n",
      "Overtime, Gen Z Sports Oasis, Looks to Raise $40 Million\n",
      "Instagram Recruits Sports World to Sell Merchandise\n",
      "Spending by Streaming TV Expected to Give Ad Growth a Long-Term Boost\n",
      "How to Survive and Thrive in a World of Disruption\n",
      "Alaska Taps New CIO After Long Search\n",
      "NSA to Issue Updated Cloud Security Guidance\n",
      "For Welch’s, Zero-Based Budgeting Helps Zero In on Costs\n",
      "Former Iconix Top Executives Charged in Accounting Fraud Scheme\n",
      "Finance Executives Are Less Optimistic About Revenue Growth, Expansion\n",
      "Corporate Compliance Efforts Count—But With Limits, Official Says\n",
      "The Morning Risk Report: U.S. Targets Russian ‘Evil Corp’ Hacker Group With Sanctions, Indictments\n",
      "U.S. Telecom Company Discloses Potential U.S. Sanctions Violations\n",
      "Parcel, Warehousing Companies Boost Hiring for Online Sales Surge\n",
      "Today’s Logistics Report: Electrified Supply Chains; Suing Online Commerce; Cybersecurity for Suppliers\n",
      "E-Commerce Surge Raises Questions in Counting Logistics Workers\n",
      "Luxury Travel Gives Back\n",
      "What They’re Reading: Book Picks From Executives and Infuencers\n",
      "Mastercard and 4 More Companies That Are Raising Their Dividends\n",
      "The CEO of the largest airline carrier has one simple reason why Wi-Fi on planes isn’t free\n",
      "CNBC’s Cramer says U.S. ‘can walk away from the table’ in China trade talks after jobs report\n",
      "Buy real estate without owning a home — plus more top investing tips\n",
      "The Listings of the Week: A Villa in Prague, J.R.R. Tolkien’s Oxford House, and More\n",
      "In Kaohsiung’s Gushan District, Green Spaces Create Sought-After Addresses\n",
      "De Beers Diamond Heiress’s Futuristic Washington State Home Sees Huge Price Cut\n",
      "Great Escapes: Indulging and Imbibing in Argentinean Wine Country\n",
      "U.S. Public Education Increasingly Drawing Attention From Private Philanthropy\n",
      "Revology Builds Classic Cars You Can Use Every Day\n",
      "The Labor Virtues of Growth\n",
      "‘Free College for All’ Is an Experiment That Has Already Failed\n",
      "Popeyenomics: Why You Do What You Do\n",
      "None\n",
      "None\n",
      "None\n",
      "None\n",
      "None\n",
      "None\n",
      "None\n",
      "None\n",
      "None\n",
      "None\n",
      "Why Entrepreneurs Don’t Learn From Their Mistakes\n",
      "Independent Theater Struggles to Survive in the Netflix Age\n",
      "Who Does What at Home? Try Using Business Titles to Divide Chores\n"
     ]
    }
   ],
   "source": [
    "for headline in soup.findAll('h3'):\n",
    "    print(headline.find('a').contents[0] if headline.find('a') != None else None)"
   ]
  },
  {
   "cell_type": "code",
   "execution_count": null,
   "metadata": {},
   "outputs": [],
   "source": []
  },
  {
   "cell_type": "code",
   "execution_count": null,
   "metadata": {},
   "outputs": [],
   "source": []
  }
 ],
 "metadata": {
  "kernelspec": {
   "display_name": "Python 3",
   "language": "python",
   "name": "python3"
  },
  "language_info": {
   "codemirror_mode": {
    "name": "ipython",
    "version": 3
   },
   "file_extension": ".py",
   "mimetype": "text/x-python",
   "name": "python",
   "nbconvert_exporter": "python",
   "pygments_lexer": "ipython3",
   "version": "3.7.4"
  }
 },
 "nbformat": 4,
 "nbformat_minor": 2
}
