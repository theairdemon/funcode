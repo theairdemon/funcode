{
 "cells": [
  {
   "cell_type": "markdown",
   "metadata": {},
   "source": [
    "# Day 2\n",
    "---"
   ]
  },
  {
   "cell_type": "code",
   "execution_count": 7,
   "metadata": {},
   "outputs": [],
   "source": [
    "f = open(\"passwords.txt\")\n",
    "raw_passwords = f.readlines()\n",
    "f.close()"
   ]
  },
  {
   "cell_type": "code",
   "execution_count": 8,
   "metadata": {},
   "outputs": [],
   "source": [
    "passwords = []\n",
    "for pwd in raw_passwords:\n",
    "    passwords.append(pwd[:-1])"
   ]
  },
  {
   "cell_type": "code",
   "execution_count": 50,
   "metadata": {},
   "outputs": [],
   "source": [
    "class PasswordData:\n",
    "    def __init__(self, raw_text):\n",
    "        self.raw_text = raw_text\n",
    "        self.pwd_list = []\n",
    "    \n",
    "    def process_text(self):\n",
    "        # split on spaces\n",
    "        self.pwd_list = self.raw_text.split(\" \")\n",
    "        #pwd_list format: [indices, letter w/ colon, password string]\n",
    "        self.pwd_list[0] = self.pwd_list[0].split(\"-\")\n",
    "        for i in range(0,2):\n",
    "            self.pwd_list[0][i] = int(self.pwd_list[0][i])\n",
    "        self.pwd_list[1] = self.pwd_list[1][:-1]\n",
    "        #pwd_list format: [[indices], letter, password string]\n",
    "        #print(self.pwd_list)        \n",
    "    \n",
    "    def is_valid(self):\n",
    "        num_matches = 0\n",
    "        for c in self.pwd_list[2]:\n",
    "            if c == self.pwd_list[1]:\n",
    "                num_matches += 1\n",
    "        if self.pwd_list[0][0] <= num_matches <= self.pwd_list[0][1]:\n",
    "            return True\n",
    "        else:\n",
    "            return False\n",
    "    \n",
    "    def is_valid_new(self):\n",
    "        c = self.pwd_list[1]\n",
    "        i1 = self.pwd_list[0][0] - 1\n",
    "        i2 = self.pwd_list[0][1] - 1\n",
    "        if (self.pwd_list[2][i1] == c) != (self.pwd_list[2][i2] == c):\n",
    "            return True\n",
    "        else:\n",
    "            return False"
   ]
  },
  {
   "cell_type": "code",
   "execution_count": 51,
   "metadata": {},
   "outputs": [
    {
     "data": {
      "text/plain": [
       "True"
      ]
     },
     "execution_count": 51,
     "metadata": {},
     "output_type": "execute_result"
    }
   ],
   "source": [
    "temp_pwd = PasswordData(passwords[0])\n",
    "temp_pwd.process_text()\n",
    "temp_pwd.is_valid()"
   ]
  },
  {
   "cell_type": "code",
   "execution_count": 52,
   "metadata": {},
   "outputs": [
    {
     "name": "stdout",
     "output_type": "stream",
     "text": [
      "383\n"
     ]
    }
   ],
   "source": [
    "num_valid = 0\n",
    "for pwd in passwords:\n",
    "    temp_pwd = PasswordData(pwd)\n",
    "    temp_pwd.process_text()\n",
    "    if temp_pwd.is_valid():\n",
    "        num_valid += 1\n",
    "\n",
    "print(num_valid)"
   ]
  },
  {
   "cell_type": "code",
   "execution_count": 53,
   "metadata": {},
   "outputs": [
    {
     "name": "stdout",
     "output_type": "stream",
     "text": [
      "272\n"
     ]
    }
   ],
   "source": [
    "num_valid = 0\n",
    "for pwd in passwords:\n",
    "    temp_pwd = PasswordData(pwd)\n",
    "    temp_pwd.process_text()\n",
    "    if temp_pwd.is_valid_new():\n",
    "        num_valid += 1\n",
    "print(num_valid)"
   ]
  },
  {
   "cell_type": "code",
   "execution_count": null,
   "metadata": {},
   "outputs": [],
   "source": []
  }
 ],
 "metadata": {
  "kernelspec": {
   "display_name": "Python 3",
   "language": "python",
   "name": "python3"
  },
  "language_info": {
   "codemirror_mode": {
    "name": "ipython",
    "version": 3
   },
   "file_extension": ".py",
   "mimetype": "text/x-python",
   "name": "python",
   "nbconvert_exporter": "python",
   "pygments_lexer": "ipython3",
   "version": "3.8.5"
  }
 },
 "nbformat": 4,
 "nbformat_minor": 4
}
