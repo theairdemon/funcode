{
 "cells": [
  {
   "cell_type": "code",
   "execution_count": 37,
   "metadata": {},
   "outputs": [],
   "source": [
    "f = open(\"passports.txt\")\n",
    "raw_passports = f.read()\n",
    "f.close()"
   ]
  },
  {
   "cell_type": "code",
   "execution_count": 38,
   "metadata": {},
   "outputs": [],
   "source": [
    "ind_passports = raw_passports.split(\"\\n\\n\")"
   ]
  },
  {
   "cell_type": "code",
   "execution_count": 39,
   "metadata": {},
   "outputs": [],
   "source": [
    "import re"
   ]
  },
  {
   "cell_type": "code",
   "execution_count": 40,
   "metadata": {},
   "outputs": [],
   "source": [
    "passports = [{} for i in range(0, len(ind_passports))]\n",
    "for i in range(0, len(ind_passports)):\n",
    "    curr_p_1 = ind_passports[i].replace(\"\\n\", \" \")\n",
    "    curr_p_2 = curr_p_1.split(\" \")\n",
    "    for field in curr_p_2:\n",
    "        curr_field = field.split(\":\")  \n",
    "        if len(curr_field) > 1:\n",
    "            passports[i][curr_field[0]] = curr_field[1]"
   ]
  },
  {
   "cell_type": "code",
   "execution_count": 55,
   "metadata": {},
   "outputs": [],
   "source": [
    "fields_list = [\"byr\", \"iyr\", \"eyr\", \"hgt\", \"hcl\", \"ecl\", \"pid\", \"cid\"]\n",
    "optional_fields = [\"cid\"]"
   ]
  },
  {
   "cell_type": "code",
   "execution_count": 52,
   "metadata": {},
   "outputs": [],
   "source": [
    "def process_key(key, value):\n",
    "    if key == \"byr\":\n",
    "        year = int(value) if value.isdecimal() else 0\n",
    "        if 1920 <= year <= 2002:\n",
    "            return True\n",
    "    elif key == \"iyr\":\n",
    "        year = int(value) if value.isdecimal() else 0\n",
    "        if 2010 <= year <= 2020:\n",
    "            return True\n",
    "    elif key == \"eyr\":\n",
    "        year = int(value) if value.isdecimal() else 0\n",
    "        if 2020 <= year <= 2030:\n",
    "            return True\n",
    "    elif key == \"hgt\":\n",
    "        if value[-2:] == \"cm\":\n",
    "            height = int(value[:-2]) if value[:-2].isdecimal() else 0\n",
    "            if 150 <= height <= 193:\n",
    "                return True\n",
    "        elif  value[-2:] == \"in\":\n",
    "            height = int(value[:-2]) if value[:-2].isdecimal() else 0\n",
    "            if 59 <= height <= 76:\n",
    "                return True\n",
    "    elif key == \"hcl\":\n",
    "        if value[0] == \"#\" and len(value) == 7:\n",
    "            if value[1:].isalnum():\n",
    "                chars = [\"a\", \"b\", \"c\", \"d\", \"e\", \"f\"]\n",
    "                for v in value[1:]:\n",
    "                    if v.isalpha() and v not in chars:\n",
    "                        return False\n",
    "                return True\n",
    "    elif key == \"ecl\":\n",
    "        colors = [\"amb\", \"blu\", \"brn\", \"gry\", \"grn\", \"hzl\", \"oth\"]\n",
    "        if value in colors:\n",
    "            return True\n",
    "    elif key == \"pid\":\n",
    "        if len(value) == 9 and value.isdecimal():\n",
    "            return True\n",
    "    elif key == \"cid\":\n",
    "        return True\n",
    "            \n",
    "    return False"
   ]
  },
  {
   "cell_type": "code",
   "execution_count": 59,
   "metadata": {},
   "outputs": [
    {
     "name": "stdout",
     "output_type": "stream",
     "text": [
      "111\n"
     ]
    }
   ],
   "source": [
    "num_valid = 0\n",
    "for passport in passports:\n",
    "    curr_keys = list(passport.keys())\n",
    "    num_valid_keys = 0\n",
    "    for key in fields_list:\n",
    "        if key in passport:\n",
    "            #print(key + \": \" + passport[key])\n",
    "            if process_key(key, passport[key]):\n",
    "                num_valid_keys += 1\n",
    "        elif key in optional_fields:\n",
    "            num_valid_keys += 1\n",
    "    if num_valid_keys == len(fields_list):\n",
    "        num_valid += 1\n",
    "        #print(\"VALID\")\n",
    "        #print(\" \")\n",
    "print(num_valid)"
   ]
  },
  {
   "cell_type": "code",
   "execution_count": null,
   "metadata": {},
   "outputs": [],
   "source": []
  }
 ],
 "metadata": {
  "kernelspec": {
   "display_name": "Python 3",
   "language": "python",
   "name": "python3"
  },
  "language_info": {
   "codemirror_mode": {
    "name": "ipython",
    "version": 3
   },
   "file_extension": ".py",
   "mimetype": "text/x-python",
   "name": "python",
   "nbconvert_exporter": "python",
   "pygments_lexer": "ipython3",
   "version": "3.8.5"
  }
 },
 "nbformat": 4,
 "nbformat_minor": 4
}
