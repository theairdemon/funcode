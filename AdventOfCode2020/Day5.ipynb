{
 "cells": [
  {
   "cell_type": "markdown",
   "metadata": {},
   "source": [
    "# Day 5\n",
    "---"
   ]
  },
  {
   "cell_type": "code",
   "execution_count": 27,
   "metadata": {},
   "outputs": [],
   "source": [
    "import math"
   ]
  },
  {
   "cell_type": "code",
   "execution_count": 50,
   "metadata": {},
   "outputs": [],
   "source": [
    "f = open(\"seating.txt\")\n",
    "raw_seating = f.readlines()\n",
    "f.close()"
   ]
  },
  {
   "cell_type": "code",
   "execution_count": 51,
   "metadata": {},
   "outputs": [],
   "source": [
    "seating = []\n",
    "for seat in raw_seating:\n",
    "    seating.append(seat[:-1])"
   ]
  },
  {
   "cell_type": "code",
   "execution_count": 112,
   "metadata": {},
   "outputs": [],
   "source": [
    "def get_id(seat):\n",
    "    \n",
    "    def narrow(mini, maxi, l):\n",
    "        if mini == maxi:\n",
    "            return mini\n",
    "        elif mini == maxi - 1:\n",
    "            if seat[l] == \"F\" or seat[l] == \"L\":\n",
    "                return mini\n",
    "            elif seat[l] == \"B\" or seat[l] == \"R\":\n",
    "                return maxi\n",
    "        \n",
    "        if seat[l] == \"F\" or seat[l] == \"L\":\n",
    "            new_maxi = math.floor((mini + maxi)/2)\n",
    "            #print(mini, new_maxi, l, seat[l])\n",
    "            return narrow(mini, new_maxi, l+1)\n",
    "        elif seat[l] == \"B\" or seat[l] == \"R\":\n",
    "            new_mini = math.ceil((mini + maxi)/2)\n",
    "            #print(new_mini, maxi, l,  seat[l])\n",
    "            return narrow(new_mini, maxi, l+1)\n",
    "    \n",
    "    row_num = narrow(0, 127, 0)\n",
    "    col_num = narrow(0, 7, 7)\n",
    "    seat_id = row_num * 8 + col_num\n",
    "    #print(seat + \" = row \" + str(row_num) + \", column \" + str(col_num) + \", seat id \" + str(seat_id))\n",
    "    return seat_id"
   ]
  },
  {
   "cell_type": "code",
   "execution_count": 113,
   "metadata": {},
   "outputs": [
    {
     "name": "stdout",
     "output_type": "stream",
     "text": [
      "357\n",
      "567\n",
      "119\n",
      "820\n"
     ]
    }
   ],
   "source": [
    "print(get_id(\"FBFBBFFRLR\"))\n",
    "print(get_id(\"BFFFBBFRRR\"))\n",
    "print(get_id(\"FFFBBBFRRR\"))\n",
    "print(get_id(\"BBFFBBFRLL\"))"
   ]
  },
  {
   "cell_type": "code",
   "execution_count": 115,
   "metadata": {},
   "outputs": [
    {
     "name": "stdout",
     "output_type": "stream",
     "text": [
      "951\n"
     ]
    }
   ],
   "source": [
    "max_seat_id = 0\n",
    "for seat in seating:\n",
    "    curr_seat_id = get_id(seat)\n",
    "    max_seat_id = max(max_seat_id, curr_seat_id)\n",
    "print(max_seat_id)"
   ]
  },
  {
   "cell_type": "code",
   "execution_count": 119,
   "metadata": {},
   "outputs": [
    {
     "name": "stdout",
     "output_type": "stream",
     "text": [
      "[653]\n"
     ]
    }
   ],
   "source": [
    "all_seats = [i for i in range(0, 952)]\n",
    "empty_seats = []\n",
    "occupied_seats = []\n",
    "for seat in seating:\n",
    "    if get_id(seat) not in occupied_seats:\n",
    "        occupied_seats.append(get_id(seat))\n",
    "#print(sorted(occupied_seats))\n",
    "for seat in all_seats:\n",
    "    if seat - 1 in occupied_seats and seat + 1 in occupied_seats and seat not in occupied_seats:\n",
    "        empty_seats.append(seat)\n",
    "print(empty_seats)"
   ]
  },
  {
   "cell_type": "code",
   "execution_count": null,
   "metadata": {},
   "outputs": [],
   "source": []
  }
 ],
 "metadata": {
  "kernelspec": {
   "display_name": "Python 3",
   "language": "python",
   "name": "python3"
  },
  "language_info": {
   "codemirror_mode": {
    "name": "ipython",
    "version": 3
   },
   "file_extension": ".py",
   "mimetype": "text/x-python",
   "name": "python",
   "nbconvert_exporter": "python",
   "pygments_lexer": "ipython3",
   "version": "3.8.5"
  }
 },
 "nbformat": 4,
 "nbformat_minor": 4
}
