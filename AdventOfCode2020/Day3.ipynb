{
 "cells": [
  {
   "cell_type": "markdown",
   "metadata": {},
   "source": [
    "# Day 3\n",
    "---"
   ]
  },
  {
   "cell_type": "code",
   "execution_count": 30,
   "metadata": {},
   "outputs": [],
   "source": [
    "f = open(\"tree_map.txt\")\n",
    "raw_trees = f.readlines()\n",
    "f.close()"
   ]
  },
  {
   "cell_type": "code",
   "execution_count": 31,
   "metadata": {},
   "outputs": [],
   "source": [
    "tree_map = []\n",
    "for row in raw_trees:\n",
    "    tree_map.append(row[:-1])"
   ]
  },
  {
   "cell_type": "code",
   "execution_count": 37,
   "metadata": {},
   "outputs": [
    {
     "name": "stdout",
     "output_type": "stream",
     "text": [
      "90\n",
      "274\n",
      "82\n",
      "68\n",
      "44\n",
      "6050183040\n"
     ]
    }
   ],
   "source": [
    "overall_num = 1\n",
    "change_col_num = [1, 3, 5, 7, 1]\n",
    "change_row_num = [1, 1, 1, 1, 2]\n",
    "\n",
    "for j in range(0, len(change_col_num)):\n",
    "    num_trees = 0\n",
    "    col_num = 0\n",
    "    row_len = len(tree_map[0])\n",
    "    i = 0\n",
    "    while i < len(tree_map):\n",
    "        if tree_map[i][col_num] == \"#\":\n",
    "            num_trees += 1\n",
    "        col_num = (col_num + change_col_num[j]) % row_len\n",
    "        i += change_row_num[j]\n",
    "    print(num_trees)\n",
    "    overall_num *= num_trees\n",
    "print(overall_num)"
   ]
  },
  {
   "cell_type": "code",
   "execution_count": null,
   "metadata": {},
   "outputs": [],
   "source": []
  }
 ],
 "metadata": {
  "kernelspec": {
   "display_name": "Python 3",
   "language": "python",
   "name": "python3"
  },
  "language_info": {
   "codemirror_mode": {
    "name": "ipython",
    "version": 3
   },
   "file_extension": ".py",
   "mimetype": "text/x-python",
   "name": "python",
   "nbconvert_exporter": "python",
   "pygments_lexer": "ipython3",
   "version": "3.8.5"
  }
 },
 "nbformat": 4,
 "nbformat_minor": 4
}
