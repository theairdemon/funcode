{
 "cells": [
  {
   "cell_type": "markdown",
   "metadata": {},
   "source": [
    "# Day 1\n",
    "--- "
   ]
  },
  {
   "cell_type": "code",
   "execution_count": 3,
   "metadata": {},
   "outputs": [],
   "source": [
    "f = open(\"expenses.txt\")\n",
    "rawExpenses = f.readlines()\n",
    "f.close()"
   ]
  },
  {
   "cell_type": "code",
   "execution_count": 7,
   "metadata": {},
   "outputs": [],
   "source": [
    "expenses = []\n",
    "for line in rawExpenses:\n",
    "    expenses.append(int(line[:-1]))"
   ]
  },
  {
   "cell_type": "code",
   "execution_count": 12,
   "metadata": {},
   "outputs": [
    {
     "name": "stdout",
     "output_type": "stream",
     "text": [
      "1067 * 691 * 262 = 193171814\n"
     ]
    }
   ],
   "source": [
    "foundAnswer = False\n",
    "for e1 in expenses:\n",
    "    if foundAnswer:\n",
    "        break\n",
    "    for e2 in expenses:\n",
    "        for e3 in expenses:\n",
    "            if foundAnswer: \n",
    "                break\n",
    "            if e1 != e2 != e3:\n",
    "                if e1 + e2 + e3 == 2020:\n",
    "                    print(str(e1) + \" * \" + str(e2) + \" * \" + str(e3) + \" = \" + str(e1 * e2 * e3))\n",
    "                    foundAnswer = True"
   ]
  },
  {
   "cell_type": "code",
   "execution_count": null,
   "metadata": {},
   "outputs": [],
   "source": []
  }
 ],
 "metadata": {
  "kernelspec": {
   "display_name": "Python 3",
   "language": "python",
   "name": "python3"
  },
  "language_info": {
   "codemirror_mode": {
    "name": "ipython",
    "version": 3
   },
   "file_extension": ".py",
   "mimetype": "text/x-python",
   "name": "python",
   "nbconvert_exporter": "python",
   "pygments_lexer": "ipython3",
   "version": "3.8.3"
  }
 },
 "nbformat": 4,
 "nbformat_minor": 4
}
