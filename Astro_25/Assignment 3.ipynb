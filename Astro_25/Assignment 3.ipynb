{
 "cells": [
  {
   "cell_type": "markdown",
   "id": "expensive-calculator",
   "metadata": {},
   "source": [
    "# Assignment 3: Question 3\n",
    "#### By Hunter Gallant"
   ]
  },
  {
   "cell_type": "markdown",
   "id": "aware-temperature",
   "metadata": {},
   "source": [
    "---\n",
    "## Pre-processing"
   ]
  },
  {
   "cell_type": "code",
   "execution_count": 1,
   "id": "every-massachusetts",
   "metadata": {},
   "outputs": [],
   "source": [
    "f = open(\"A25_HW3_stardata.dat\")\n",
    "raw_data = f.readlines()\n",
    "f.close()"
   ]
  },
  {
   "cell_type": "code",
   "execution_count": 2,
   "id": "environmental-attendance",
   "metadata": {},
   "outputs": [],
   "source": [
    "# Processing the raw input data\n",
    "# Table columns: | Type | M_V | BC | L (L_sol) | B-V |\n",
    "stardata = []\n",
    "for line in raw_data[1:]:\n",
    "    raw_row = line.split(\" \")\n",
    "    row = []\n",
    "    for cell in raw_row:\n",
    "        if len(cell) != 0:\n",
    "            row.append(cell)\n",
    "        \n",
    "    clean_row = []\n",
    "    for i in range(len(row)):\n",
    "        if i == 0: val = row[i]\n",
    "        elif 0 < i < 4: val = float(row[i])\n",
    "        else: val = float(row[i][:-1])\n",
    "        clean_row.append(val)\n",
    "    stardata.append(clean_row)\n",
    "#print(stardata)"
   ]
  },
  {
   "cell_type": "markdown",
   "id": "promising-worthy",
   "metadata": {},
   "source": [
    "---\n",
    "## Part A"
   ]
  },
  {
   "cell_type": "markdown",
   "id": "listed-joseph",
   "metadata": {},
   "source": [
    "$$1M_{\\odot}=C\\int_{0.2}^{50}m^{-1.35}dm$$"
   ]
  },
  {
   "cell_type": "code",
   "execution_count": 3,
   "id": "northern-library",
   "metadata": {},
   "outputs": [],
   "source": [
    "def makeBins(delta_m, lo, hi):\n",
    "    bins = [lo]\n",
    "    num_bins = int(hi/delta_m) - int(lo/delta_m)\n",
    "    for i in range(num_bins):\n",
    "        bins.append(round(bins[-1]+delta_m, 5))\n",
    "    return bins"
   ]
  },
  {
   "cell_type": "code",
   "execution_count": 4,
   "id": "accessory-helmet",
   "metadata": {},
   "outputs": [],
   "source": [
    "def partA(delta_m):\n",
    "    bins = makeBins(delta_m, 0.2, 50)\n",
    "    sum_a = 0\n",
    "    for b in bins:\n",
    "        sum_a += (b**(-1.35))*delta_m\n",
    "    print(\"Sum: \" + str(sum_a))\n",
    "    C = 1/sum_a\n",
    "    print(\"C: \" + str(C))"
   ]
  },
  {
   "cell_type": "code",
   "execution_count": 5,
   "id": "muslim-history",
   "metadata": {},
   "outputs": [
    {
     "name": "stdout",
     "output_type": "stream",
     "text": [
      "Sum: 4.296275006090222\n",
      "C: 0.2327597741258279\n"
     ]
    }
   ],
   "source": [
    "partA(0.001)"
   ]
  },
  {
   "cell_type": "markdown",
   "id": "comic-trunk",
   "metadata": {},
   "source": [
    "---\n",
    "## Part B"
   ]
  },
  {
   "cell_type": "markdown",
   "id": "tough-howard",
   "metadata": {},
   "source": [
    "$$L_{\\textrm{bol}}= 2.328*10^9 \\int_{0.2}^{50}L(m)m^{-2.35}dm$$"
   ]
  },
  {
   "cell_type": "code",
   "execution_count": 6,
   "id": "engaged-psychiatry",
   "metadata": {},
   "outputs": [],
   "source": [
    "def partB(delta_m):\n",
    "    bins = makeBins(delta_m, 0.2, 50)\n",
    "    sum_b = 0\n",
    "    for m in bins:\n",
    "        # L(m) changes depending on the value of m\n",
    "        if m < 0.5:\n",
    "            sum_b += (0.27 * m**(2.6) * m**(-2.35)) * delta_m\n",
    "        elif m < 2:\n",
    "            sum_b += (m**(4.5) * m**(-2.35)) * delta_m\n",
    "        elif m < 20:\n",
    "            sum_b += (1.9 * m**(3.6) * m**(-2.35)) * delta_m\n",
    "        else:\n",
    "            sum_b += (4600 * m * m**(-2.35)) * delta_m\n",
    "    front = 2.328 * 10**9\n",
    "    total = front * sum_b\n",
    "    return total"
   ]
  },
  {
   "cell_type": "code",
   "execution_count": 7,
   "id": "emerging-rings",
   "metadata": {},
   "outputs": [
    {
     "data": {
      "text/plain": [
       "4.6021571806261345"
      ]
     },
     "execution_count": 7,
     "metadata": {},
     "output_type": "execute_result"
    }
   ],
   "source": [
    "partB(0.001)/10**12"
   ]
  },
  {
   "cell_type": "markdown",
   "id": "optional-symphony",
   "metadata": {},
   "source": [
    "---\n",
    "## Part D"
   ]
  },
  {
   "cell_type": "markdown",
   "id": "quick-sharp",
   "metadata": {},
   "source": [
    "$$L_V = 2.328*10^9\\int_{0.2}^{50}L(m)*10^{0.4BC}*m^{-2.35}dm$$\n",
    "$$L_B = 2.328*10^9\\int_{0.2}^{50}L(m)*10^{0.4|BC-(B-V)|}*m^{-2.35}dm$$"
   ]
  },
  {
   "cell_type": "code",
   "execution_count": null,
   "id": "beautiful-geometry",
   "metadata": {},
   "outputs": [],
   "source": []
  },
  {
   "cell_type": "code",
   "execution_count": 8,
   "id": "sexual-commercial",
   "metadata": {},
   "outputs": [],
   "source": [
    "def partD(delta_m, vb):\n",
    "    bins = makeBins(delta_m, 0.2, 50)\n",
    "    sum_d = 0"
   ]
  },
  {
   "cell_type": "code",
   "execution_count": 9,
   "id": "vital-genius",
   "metadata": {},
   "outputs": [],
   "source": [
    "partD(0.001)"
   ]
  },
  {
   "cell_type": "code",
   "execution_count": null,
   "id": "geographic-canadian",
   "metadata": {},
   "outputs": [],
   "source": []
  }
 ],
 "metadata": {
  "kernelspec": {
   "display_name": "Python 3",
   "language": "python",
   "name": "python3"
  },
  "language_info": {
   "codemirror_mode": {
    "name": "ipython",
    "version": 3
   },
   "file_extension": ".py",
   "mimetype": "text/x-python",
   "name": "python",
   "nbconvert_exporter": "python",
   "pygments_lexer": "ipython3",
   "version": "3.8.5"
  }
 },
 "nbformat": 4,
 "nbformat_minor": 5
}
