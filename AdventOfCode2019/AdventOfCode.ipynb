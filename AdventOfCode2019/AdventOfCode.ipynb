{
 "cells": [
  {
   "cell_type": "markdown",
   "metadata": {},
   "source": [
    "# Advent of Code"
   ]
  },
  {
   "cell_type": "code",
   "execution_count": 2,
   "metadata": {},
   "outputs": [],
   "source": [
    "import math\n",
    "import numpy as np\n",
    "from treelib import Node, Tree"
   ]
  },
  {
   "cell_type": "markdown",
   "metadata": {},
   "source": [
    "---\n",
    "### Day 1"
   ]
  },
  {
   "cell_type": "code",
   "execution_count": 3,
   "metadata": {},
   "outputs": [],
   "source": [
    "def getFuelVals(input_list):\n",
    "    total = 0\n",
    "    for i in range(len(input_list)):\n",
    "        fuel = getFuel(input_list[i])        \n",
    "        while fuel > 0:\n",
    "            total += fuel\n",
    "            fuel = getFuel(fuel)\n",
    "    return total"
   ]
  },
  {
   "cell_type": "code",
   "execution_count": 4,
   "metadata": {},
   "outputs": [],
   "source": [
    "def getFuel(input_val):\n",
    "    return math.floor(input_val / 3) - 2"
   ]
  },
  {
   "cell_type": "code",
   "execution_count": 5,
   "metadata": {},
   "outputs": [],
   "source": [
    "f = open(\"day1.txt\")\n",
    "day1_raw_input = f.readlines()\n",
    "f.close()"
   ]
  },
  {
   "cell_type": "code",
   "execution_count": 6,
   "metadata": {},
   "outputs": [],
   "source": [
    "day1_input = []\n",
    "for fuel in day1_raw_input:\n",
    "    day1_input.append(int(fuel[:-1]))"
   ]
  },
  {
   "cell_type": "code",
   "execution_count": 7,
   "metadata": {},
   "outputs": [
    {
     "name": "stdout",
     "output_type": "stream",
     "text": [
      "5055835\n"
     ]
    }
   ],
   "source": [
    "print(getFuelVals(day1_input))"
   ]
  },
  {
   "cell_type": "markdown",
   "metadata": {},
   "source": [
    "---\n",
    "### Day 2"
   ]
  },
  {
   "cell_type": "code",
   "execution_count": 8,
   "metadata": {},
   "outputs": [],
   "source": [
    "def intCode(input_list):\n",
    "    new = input_list[:]\n",
    "    for i in range(0, len(new), 4):\n",
    "        if new[i] == 99:\n",
    "            return new\n",
    "        elif new[i] == 1:\n",
    "            new[new[i+3]] = new[new[i+1]] + new[new[i+2]]\n",
    "        elif new[i] == 2:\n",
    "            new[new[i+3]] = new[new[i+1]] * new[new[i+2]]\n",
    "        else:\n",
    "            return new"
   ]
  },
  {
   "cell_type": "code",
   "execution_count": 9,
   "metadata": {},
   "outputs": [],
   "source": [
    "f = open(\"day2.txt\")\n",
    "day2_raw_input = f.read()\n",
    "f.close()"
   ]
  },
  {
   "cell_type": "code",
   "execution_count": 10,
   "metadata": {},
   "outputs": [],
   "source": [
    "day2_input = []\n",
    "new_list = day2_raw_input.split(\",\")\n",
    "for i in new_list:\n",
    "    day2_input.append(int(i))"
   ]
  },
  {
   "cell_type": "code",
   "execution_count": 11,
   "metadata": {},
   "outputs": [
    {
     "name": "stdout",
     "output_type": "stream",
     "text": [
      "[4484226, 12, 2, 2, 1, 1, 2, 3, 1, 3, 4, 3, 1, 5, 0, 3, 2, 6, 1, 24, 1, 5, 19, 25, 2, 6, 23, 50, 1, 27, 5, 51, 2, 9, 31, 153, 1, 5, 35, 154, 2, 6, 39, 308, 2, 6, 43, 616, 1, 5, 47, 617, 2, 9, 51, 1851, 1, 5, 55, 1852, 1, 10, 59, 1856, 1, 63, 6, 1858, 1, 9, 67, 1861, 1, 71, 6, 1863, 1, 75, 13, 1868, 2, 79, 13, 9340, 2, 9, 83, 28020, 1, 87, 5, 28021, 1, 9, 91, 28024, 2, 10, 95, 112096, 1, 5, 99, 112097, 1, 103, 9, 112100, 1, 13, 107, 112105, 2, 111, 10, 448420, 1, 115, 5, 448421, 2, 13, 119, 2242105, 1, 9, 123, 2242108, 1, 5, 127, 2242109, 2, 131, 6, 4484218, 1, 135, 5, 4484219, 1, 139, 6, 4484221, 1, 143, 6, 4484223, 1, 2, 147, 4484225, 1, 151, 5, 0, 99, 2, 14, 0, 0]\n"
     ]
    }
   ],
   "source": [
    "day2_input[1] = 12\n",
    "day2_input[2] = 2\n",
    "print(intCode(day2_input))"
   ]
  },
  {
   "cell_type": "markdown",
   "metadata": {},
   "source": [
    "---\n",
    "### Day 10"
   ]
  },
  {
   "cell_type": "code",
   "execution_count": 1,
   "metadata": {},
   "outputs": [],
   "source": [
    "def findAsteroids(coords):\n",
    "    inView = 0\n",
    "    above = False\n",
    "    below = False\n",
    "    left = False\n",
    "    right = False\n",
    "    \n",
    "    # end early if current location is not an asteroid\n",
    "    if asMap[coords[0]][coords[1]] == '.':\n",
    "        return '.'\n",
    "    \n",
    "    x = coords[1]\n",
    "    y = coords[0]\n",
    "    slopes = set()\n",
    "    slopeDict = {}\n",
    "    iterations = 0\n",
    "    # just check every location\n",
    "    # i = y2\n",
    "    for i in range(0, len(asMap)):\n",
    "        # j = x2\n",
    "        slopelist = []\n",
    "        for j in range(0, len(asMap[i])):\n",
    "            if asMap[i][j] == '.': # no asteroid here\n",
    "                continue\n",
    "            if i == y and j == x: # same location\n",
    "                continue\n",
    "            # edge cases            \n",
    "            if j == x and i < y: # directly above\n",
    "                if not above:\n",
    "                    above = True\n",
    "                    inView += 1\n",
    "                continue\n",
    "            if j == x and i > y: # directly below\n",
    "                if not below:\n",
    "                    below = True\n",
    "                    inView += 1\n",
    "                continue\n",
    "            if i == y and j < x: # to the left\n",
    "                if not left:\n",
    "                    left = True\n",
    "                    inView += 1\n",
    "                continue\n",
    "            if i == y and j > x: # take it back now y'all\n",
    "                if not right:\n",
    "                    right = True\n",
    "                    inView += 1\n",
    "                continue\n",
    "                \n",
    "            dy = i - y\n",
    "            dx = j - x\n",
    "            slope = dy/dx \n",
    "            #print(slope)\n",
    "            iterations += 1\n",
    "            slopelist.append(slope)\n",
    "            \n",
    "            if slope not in slopes:\n",
    "                slopes.add(slope)\n",
    "                slopeDict[slope] = [(i, j)]\n",
    "                inView += 1\n",
    "            else:\n",
    "                if len(slopeDict[slope]) > 1:\n",
    "                    continue\n",
    "                oj = slopeDict[slope][0][1]\n",
    "                oi = slopeDict[slope][0][0]\n",
    "                # if old upLeft and new downRight\n",
    "                if (oi < y < i and oj < x < j) or (oi < y < i and oj > x > j) or (oi > y > i and oj > x > j) or (oi > y > i and oj < x < j):\n",
    "                    inView += 1\n",
    "                    slopeDict[slope].append((i, j))\n",
    "                \n",
    "    #print(iterations)\n",
    "    return inView"
   ]
  },
  {
   "cell_type": "code",
   "execution_count": 2,
   "metadata": {},
   "outputs": [],
   "source": [
    "day10 = open(\"day10.txt\", \"r\")\n",
    "asMap = []\n",
    "for row in day10:\n",
    "    strList = []\n",
    "    strList[:0] = row\n",
    "    asMap.append(strList[:-1])\n",
    "day10.close()\n",
    "#print(asMap)"
   ]
  },
  {
   "cell_type": "code",
   "execution_count": 3,
   "metadata": {},
   "outputs": [
    {
     "data": {
      "text/plain": [
       "'.'"
      ]
     },
     "execution_count": 3,
     "metadata": {},
     "output_type": "execute_result"
    }
   ],
   "source": [
    "findAsteroids((8,5))"
   ]
  },
  {
   "cell_type": "code",
   "execution_count": 4,
   "metadata": {},
   "outputs": [
    {
     "name": "stdout",
     "output_type": "stream",
     "text": [
      "Best is (19, 27) with 314 asteroids detected.\n",
      " \n",
      ". . 271 . . 279 282 277 . . . . 280 274 288 287 276 . . . . 278 282 281 . . . . . . . . 281\n",
      ". 287 284 . 286 287 . . . 299 . 292 . . . . . . . 293 . . . . . . 292 296 . . . . 298\n",
      "288 . . 278 . . 274 287 . 284 . . 281 276 283 . . . 285 282 . . . . 285 . . . . . . 276 292\n",
      ". . 284 302 285 291 . . . 293 . . 284 290 . . . 285 292 289 290 . 280 . . . . . . . 296 . 294\n",
      ". . . 290 . 284 . . . . . 289 267 . . . 276 . 290 282 281 284 . 287 . 284 285 296 . 288 . . 291\n",
      "285 . . 292 . . 282 289 . 296 . 297 . 286 296 296 285 . 280 . 292 295 275 . 289 . 293 291 . . . . .\n",
      "291 . 287 289 . . . 286 280 . . . . . 280 284 . 282 . . . . . . 286 . . . . . 290 282 .\n",
      ". 296 . . 286 296 . 304 282 . 282 . . 291 . . . . 295 . . . 289 . . . 292 . . . 299 287 .\n",
      ". 291 . . 278 . . . . . 282 289 276 . 294 . . 284 289 . 294 291 286 . 293 285 . . . . . . .\n",
      ". 295 286 . . . 287 . . 301 279 289 298 288 . 303 . 284 . . . . . . 294 298 286 293 . . . . .\n",
      ". . 277 287 . 287 . 285 . 280 . 283 288 288 . . 277 . . . 282 . 289 . . 289 281 . 293 . . . .\n",
      ". . . . . 296 . . . . 290 . . . . 302 286 . 296 300 302 295 . . . . 297 . . . . . .\n",
      ". 272 . . 285 286 . 286 . . . . . . . . . 281 . . 284 . . . . . . 288 280 289 . . 300\n",
      "294 . 284 294 . . . . 295 . 286 . . 305 . 304 . . . . 297 . 290 303 295 . . . 299 . . . .\n",
      ". 273 286 . . . 277 282 . . 283 . 280 . 283 . . . 285 283 293 . . 293 . 291 . 284 . . 293 285 295\n",
      ". 288 . . 290 293 . . 284 301 . . . 297 288 . . . 285 . 289 . 284 . . . 287 . . 293 . 289 .\n",
      ". 285 . . 289 . . 289 292 . 286 296 . . . 290 288 286 . 293 292 . 289 . . . . . . 286 . . .\n",
      ". . . 290 . . . . . 291 294 302 . . . . . 308 . . . . 302 . . 292 . . . . 292 . .\n",
      ". 293 . . . 284 292 280 . . 284 . . . . . . 291 . 282 287 . 281 . . . 282 . 295 300 295 299 .\n",
      ". . . . 294 . 294 299 . . . 305 300 . 292 . . . 297 . . . . . . . . 314 . 300 . . .\n",
      ". . 287 . 287 294 . . . . 287 . . 284 . . . . . . . 287 291 . 286 302 . . . . . 289 .\n",
      ". 291 . 303 . . . . 294 298 294 . 299 . 298 . 294 . 306 . 290 . . . . . . . . . . . .\n",
      "293 . . . . 290 293 292 286 . 288 286 . . . . 289 . . 284 295 299 . 289 289 . 290 . 294 . . 296 .\n",
      ". . . . . . 294 289 . . . . 288 . 303 . 304 . . . 301 . . . 292 . . 304 . . . . .\n",
      ". . . 298 . 282 . . 285 282 291 286 . 290 290 . 285 . . . . . . . . . 288 290 293 . . 293 285\n",
      ". . . . . . . 288 . . . . 291 . 301 303 . . . . . . . 307 . 297 . 310 293 304 . . .\n",
      ". . . 293 . . 290 . 294 . . . . . . . . . 300 . . . 295 302 304 . . . . . . 294 .\n",
      ". 297 . 300 289 . 296 . 289 . 285 . 299 . . . . . . . . 310 . 295 . 299 292 . . 298 . . .\n",
      ". . . . . . . 290 . 286 291 . 301 . . . . . . . . . . . 305 . . 299 . 297 . . .\n",
      ". 295 289 293 288 . . . . 294 292 . . 300 . . 290 300 . 301 . 297 286 . 295 299 . . 291 302 . . .\n",
      ". 284 . 278 . . 286 283 278 . 279 . . 287 . . . 289 . . . . 285 . 288 294 286 . 290 . . 283 .\n",
      ". . . . . . . . . . . . 306 . . . 302 . . . 303 . . . . . . . 301 . 298 . .\n",
      ". . . . . . . . . 280 299 298 . 290 . . . . . 293 . . 287 302 . . 295 . 289 297 . . .\n"
     ]
    }
   ],
   "source": [
    "currentMap = []\n",
    "maxVal = 0\n",
    "maxTuple = (0,0)\n",
    "for i in range(0, len(asMap)):\n",
    "    currentRow = []\n",
    "    for j in range(0, len(asMap[i])):\n",
    "        currVal = findAsteroids((i, j))\n",
    "        if currVal == '.':\n",
    "            currentRow.append(str(currVal))\n",
    "        else:\n",
    "            if currVal > maxVal:\n",
    "                maxVal = currVal\n",
    "                maxTuple = (i, j)\n",
    "            currentRow.append(str(currVal))\n",
    "    currentMap.append(currentRow)\n",
    "\n",
    "print(\"Best is \" + str(maxTuple) + \" with \" + str(maxVal) + \" asteroids detected.\")\n",
    "print(\" \")\n",
    "\n",
    "for row in currentMap:\n",
    "    print(\" \".join(row))"
   ]
  },
  {
   "cell_type": "code",
   "execution_count": 20,
   "metadata": {},
   "outputs": [],
   "source": [
    "theseCoords = (19,27)"
   ]
  },
  {
   "cell_type": "code",
   "execution_count": 26,
   "metadata": {},
   "outputs": [],
   "source": [
    "import math\n",
    "def getDist(e):\n",
    "    return math.sqrt((theseCoords[0] - e[0])**2 + (theseCoords[1] - e[1])**2)"
   ]
  },
  {
   "cell_type": "code",
   "execution_count": 69,
   "metadata": {},
   "outputs": [],
   "source": [
    "def zapAsteroids(coords):\n",
    "    zapped = 0\n",
    "    above = 10000\n",
    "    below = -10000\n",
    "    left = -0.00001\n",
    "    right = 0.00001\n",
    "    \n",
    "    # end early if current location is not an asteroid\n",
    "    if asMap[coords[0]][coords[1]] == '.':\n",
    "        return '.'\n",
    "    \n",
    "    x = coords[1]\n",
    "    y = coords[0]\n",
    "    slopes = set()\n",
    "    slopeDict = {}\n",
    "    iterations = 0\n",
    "    \n",
    "    allAsteroids = {}\n",
    "    # just check every location\n",
    "    # i = y2\n",
    "    for i in range(0, len(asMap)):\n",
    "        # j = x2\n",
    "        slopelist = []\n",
    "        for j in range(0, len(asMap[i])):\n",
    "            if asMap[i][j] == '.': # no asteroid here\n",
    "                continue\n",
    "            if i == y and j == x: # same location\n",
    "                continue\n",
    "            # edge cases            \n",
    "            if j == x and i < y: # directly above\n",
    "                if above in allAsteroids:\n",
    "                    allAsteroids[above].append((i,j))\n",
    "                else:\n",
    "                    allAsteroids[above] = [(i,j)]\n",
    "                continue\n",
    "            if j == x and i > y: # directly below\n",
    "                if below in allAsteroids:\n",
    "                    allAsteroids[below].append((i,j))\n",
    "                else:\n",
    "                    allAsteroids[below] = [(i,j)]\n",
    "                continue\n",
    "            if i == y and j < x: # to the left\n",
    "                if left in allAsteroids:\n",
    "                    allAsteroids[left].append((i,j))\n",
    "                else:\n",
    "                    allAsteroids[left] = [(i,j)]\n",
    "                continue\n",
    "            if i == y and j > x: # take it back now y'all\n",
    "                if right in allAsteroids:\n",
    "                    allAsteroids[right].append((i,j))\n",
    "                else:\n",
    "                    allAsteroids[right] = [(i,j)]\n",
    "                continue\n",
    "                \n",
    "            dy = i - y\n",
    "            dx = j - x\n",
    "            slope = dy/dx \n",
    "            \n",
    "            if slope in allAsteroids:\n",
    "                allAsteroids[slope].append((i,j))\n",
    "            else:\n",
    "                allAsteroids[slope] = [(i,j)]\n",
    "    \n",
    "    orderHit = []\n",
    "    rightSide = True\n",
    "    currKeys = []\n",
    "    index = 0\n",
    "    for i in range(0, 500):\n",
    "        if rightSide:\n",
    "            currKeys = sorted(list(allAsteroids.keys()), reverse = True)\n",
    "            currList = allAsteroids[currKeys[index]]\n",
    "            if currKeys[index] == below:\n",
    "                index = -1\n",
    "                rightSide = False\n",
    "            else:\n",
    "                # if on right side, then only include coords with j > x\n",
    "                newList = [tup for tup in currList if tup[1] >= x]\n",
    "                newList.sort(key=getDist)\n",
    "                for newCoords in newList:\n",
    "                    if newCoords in orderHit:\n",
    "                        continue\n",
    "                    orderHit.append(newCoords)\n",
    "            \n",
    "        else:\n",
    "            currKeys = sorted(list(allAsteroids.keys()), reverse = False)\n",
    "            currList = allAsteroids[currKeys[index]]\n",
    "            if currKeys[index] == above:\n",
    "                index = -1\n",
    "                rightSide = True\n",
    "            else:\n",
    "                # if not on right side, then only include coords with j < x\n",
    "                newList = [tup for tup in currList if tup[1] <= x]\n",
    "                newList.sort(key=getDist)\n",
    "                for newCoords in newList:\n",
    "                    if newCoords in orderHit:\n",
    "                        continue\n",
    "                    orderHit.append(newCoords)\n",
    "        index += 1\n",
    "    print(len(orderHit))\n",
    "    print(orderHit[200])\n",
    "    print(orderHit)\n",
    "    return allAsteroids"
   ]
  },
  {
   "cell_type": "code",
   "execution_count": 70,
   "metadata": {},
   "outputs": [
    {
     "name": "stdout",
     "output_type": "stream",
     "text": [
      "290\n",
      "(15, 5)\n",
      "[(14, 27), (12, 27), (9, 27), (5, 27), (4, 27), (1, 27), (32, 28), (31, 28), (30, 28), (29, 28), (32, 29), (25, 28), (24, 28), (29, 29), (28, 29), (27, 29), (31, 30), (22, 28), (25, 29), (30, 31), (26, 31), (24, 31), (24, 32), (22, 31), (20, 31), (19, 29), (18, 31), (18, 30), (18, 29), (17, 30), (18, 28), (15, 31), (14, 32), (14, 31), (12, 32), (16, 29), (14, 30), (15, 29), (7, 31), (4, 32), (3, 32), (6, 31), (2, 32), (12, 29), (1, 32), (0, 32), (7, 30), (2, 31), (6, 30), (3, 30), (13, 28), (12, 28), (4, 29), (10, 28), (23, 27), (24, 27), (25, 27), (28, 27), (32, 26), (30, 26), (27, 26), (30, 25), (24, 26), (29, 25), (27, 25), (30, 24), (29, 24), (32, 23), (22, 26), (25, 25), (28, 24), (32, 22), (26, 24), (30, 22), (27, 23), (29, 22), (26, 23), (31, 20), (29, 21), (32, 19), (25, 23), (26, 22), (23, 24), (27, 21), (29, 19), (30, 17), (31, 16), (22, 24), (29, 17), (32, 13), (29, 16), (32, 11), (31, 12), (30, 13), (26, 18), (32, 10), (22, 23), (32, 9), (29, 13), (30, 10), (28, 12), (29, 10), (30, 8), (23, 20), (29, 9), (30, 7), (27, 12), (28, 10), (30, 6), (20, 25), (22, 21), (25, 15), (28, 9), (27, 10), (25, 14), (30, 3), (24, 16), (28, 7), (29, 4), (22, 20), (30, 1), (27, 8), (29, 3), (25, 12), (29, 2), (24, 14), (29, 1), (27, 6), (22, 19), (26, 8), (23, 16), (24, 13), (27, 4), (20, 24), (26, 6), (27, 3), (24, 11), (23, 14), (27, 1), (25, 7), (24, 10), (26, 3), (21, 20), (24, 9), (22, 16), (23, 12), (24, 8), (24, 5), (21, 18), (24, 3), (20, 22), (23, 7), (23, 6), (22, 11), (21, 16), (22, 10), (20, 21), (22, 8), (21, 14), (22, 7), (22, 6), (22, 5), (21, 12), (21, 10), (21, 9), (22, 0), (21, 8), (21, 3), (21, 1), (20, 13), (20, 10), (20, 5), (20, 4), (20, 2), (19, 18), (19, 14), (19, 12), (19, 11), (19, 7), (19, 6), (19, 4), (18, 1), (18, 5), (18, 6), (18, 7), (18, 10), (17, 3), (18, 17), (17, 9), (16, 1), (17, 10), (18, 19), (17, 11), (16, 4), (18, 20), (16, 7), (15, 1), (16, 8), (15, 4), (16, 10), (15, 5), (16, 11), (14, 1), (18, 22), (17, 17), (14, 2), (15, 8), (15, 9), (13, 0), (14, 6), (13, 2), (16, 15), (14, 7), (13, 3), (12, 1), (16, 16), (15, 13), (14, 10), (16, 17), (12, 4), (15, 14), (13, 8), (12, 5), (14, 12), (12, 7), (13, 10), (10, 2), (11, 5), (16, 19), (10, 3), (14, 14), (9, 1), (17, 22), (9, 2), (10, 5), (8, 1), (16, 20), (13, 13), (15, 18), (10, 7), (7, 1), (11, 10), (9, 6), (8, 4), (6, 0), (13, 15), (10, 9), (5, 0), (6, 2), (7, 4), (6, 3), (7, 5), (14, 18), (9, 9), (10, 11), (15, 20), (5, 3), (9, 10), (16, 22), (10, 12), (7, 7), (14, 19), (9, 11), (4, 3), (2, 0), (7, 8), (3, 2), (10, 13), (8, 10), (6, 7), (11, 15), (9, 12), (5, 6), (3, 3), (4, 5), (6, 8), (8, 11), (1, 1), (3, 4), (12, 17), (5, 7), (7, 10), (2, 3), (14, 20), (9, 13), (1, 2), (11, 16), (3, 5), (8, 12), (0, 2)]\n"
     ]
    }
   ],
   "source": [
    "zapMap = zapAsteroids(theseCoords)"
   ]
  },
  {
   "cell_type": "code",
   "execution_count": null,
   "metadata": {},
   "outputs": [],
   "source": []
  }
 ],
 "metadata": {
  "kernelspec": {
   "display_name": "Python 3",
   "language": "python",
   "name": "python3"
  },
  "language_info": {
   "codemirror_mode": {
    "name": "ipython",
    "version": 3
   },
   "file_extension": ".py",
   "mimetype": "text/x-python",
   "name": "python",
   "nbconvert_exporter": "python",
   "pygments_lexer": "ipython3",
   "version": "3.8.3"
  }
 },
 "nbformat": 4,
 "nbformat_minor": 2
}
